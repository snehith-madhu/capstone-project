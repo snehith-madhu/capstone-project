{
 "cells": [
  {
   "cell_type": "markdown",
   "metadata": {},
   "source": [
    "# Purpose\n",
    "This notebook describes the typical activities carried out  at the beginning to a project / thread when customer shares new data. We will be trying to understand the tables, columns and information flow. Typically we also look for data issues and confirm with respective owners for resolution. At the end of this activity, the data sources and their treatment is finalized. Code in this notebook will not be part of the production code.\n",
    "\n",
    "This data can be downloaded from\n",
    "[here](https://drive.google.com/file/d/11DqcBxxEcn3QA4YvPQmmExBm-m6AgUQ_/view?usp=sharing)\n",
    "\n",
    "**NOTE**:\n",
    "Download the data from the above link, and copy the extracted csv files to the path `data/raw/sales/` (relative to root of the code archive folder). Make sure to copy the files before continuing on with the rest of the notebook.\n",
    "\n",
    "# Initialization"
   ]
  },
  {
   "cell_type": "code",
   "execution_count": 12,
   "metadata": {},
   "outputs": [
    {
     "name": "stdout",
     "output_type": "stream",
     "text": [
      "The autoreload extension is already loaded. To reload it, use:\n",
      "  %reload_ext autoreload\n"
     ]
    }
   ],
   "source": [
    "%load_ext autoreload\n",
    "%autoreload 2"
   ]
  },
  {
   "cell_type": "code",
   "execution_count": 13,
   "metadata": {},
   "outputs": [
    {
     "name": "stdout",
     "output_type": "stream",
     "text": [
      "CPU times: user 53 µs, sys: 12 µs, total: 65 µs\n",
      "Wall time: 66.5 µs\n"
     ]
    }
   ],
   "source": [
    "%%time\n",
    "\n",
    "# Third-party imports\n",
    "import os.path as op\n",
    "import pandas as pd\n",
    "import great_expectations as ge\n",
    "\n",
    "# Project imports\n",
    "from ta_lib.core.api import display_as_tabs, initialize_environment\n",
    "\n",
    "# Initialization\n",
    "initialize_environment(debug=False, hide_warnings=True)"
   ]
  },
  {
   "cell_type": "markdown",
   "metadata": {},
   "source": [
    "# Data\n",
    "\n",
    "## Background\n",
    "\n",
    "Customer is a distributor of electronic devices. They partner with manufacturers, carriers and refurbishers and sell across to  retailers. The selling price is the outcome of negotiation between sales representatives and retailers. Customer wants to understand the selling price variation and determine  optimal pricing with Machine Learning."
   ]
  },
  {
   "cell_type": "code",
   "execution_count": 34,
   "metadata": {},
   "outputs": [],
   "source": [
    "from ta_lib.core.api import create_context, list_datasets, load_dataset"
   ]
  },
  {
   "cell_type": "code",
   "execution_count": 42,
   "metadata": {},
   "outputs": [],
   "source": [
    "config_path = op.join('conf', 'config.yml')\n",
    "context = create_context(config_path)"
   ]
  },
  {
   "cell_type": "code",
   "execution_count": 43,
   "metadata": {},
   "outputs": [
    {
     "data": {
      "text/plain": [
       "['/raw/housing',\n",
       " '/cleaned/housing',\n",
       " '/train/housing/features',\n",
       " '/train/housing/target',\n",
       " '/test/housing/features',\n",
       " '/test/housing/target',\n",
       " '/score/housing/output']"
      ]
     },
     "execution_count": 43,
     "metadata": {},
     "output_type": "execute_result"
    }
   ],
   "source": [
    "list_datasets(context)"
   ]
  },
  {
   "cell_type": "code",
   "execution_count": 45,
   "metadata": {},
   "outputs": [],
   "source": [
    "# load datasets\n",
    "housing_df = load_dataset(context, 'raw/housing')\n",
    "# prod_df = load_dataset(context, 'raw/product')"
   ]
  },
  {
   "cell_type": "markdown",
   "metadata": {},
   "source": [
    "# Exploratory Analysis\n",
    "\n",
    "Given the raw data from data ingestion, we would now like to explore and learn more details about the data.\n",
    "\n",
    "\n",
    "The output of the step would be a summary report and discussion of any pertinent findings.\n"
   ]
  },
  {
   "cell_type": "code",
   "execution_count": 46,
   "metadata": {},
   "outputs": [],
   "source": [
    "# Import the eda API\n",
    "import ta_lib.eda.api as eda"
   ]
  },
  {
   "cell_type": "markdown",
   "metadata": {},
   "source": [
    "## Variable summary"
   ]
  },
  {
   "cell_type": "code",
   "execution_count": 47,
   "metadata": {},
   "outputs": [
    {
     "data": {},
     "metadata": {},
     "output_type": "display_data"
    },
    {
     "data": {
      "application/vnd.holoviews_exec.v0+json": "",
      "text/html": [
       "<div id='1002'>\n",
       "  <div class=\"bk-root\" id=\"597dcdb6-9f68-4bbd-a32e-efc6b03adbcf\" data-root-id=\"1002\"></div>\n",
       "</div>\n",
       "<script type=\"application/javascript\">(function(root) {\n",
       "  function embed_document(root) {\n",
       "    var docs_json = {\"32efbd23-5628-478a-9b00-e4d6630781f5\":{\"defs\":[{\"extends\":null,\"module\":null,\"name\":\"ReactiveHTML1\",\"overrides\":[],\"properties\":[]},{\"extends\":null,\"module\":null,\"name\":\"FlexBox1\",\"overrides\":[],\"properties\":[{\"default\":\"flex-start\",\"kind\":null,\"name\":\"align_content\"},{\"default\":\"flex-start\",\"kind\":null,\"name\":\"align_items\"},{\"default\":\"row\",\"kind\":null,\"name\":\"flex_direction\"},{\"default\":\"wrap\",\"kind\":null,\"name\":\"flex_wrap\"},{\"default\":\"flex-start\",\"kind\":null,\"name\":\"justify_content\"}]},{\"extends\":null,\"module\":null,\"name\":\"GridStack1\",\"overrides\":[],\"properties\":[{\"default\":\"warn\",\"kind\":null,\"name\":\"mode\"},{\"default\":null,\"kind\":null,\"name\":\"ncols\"},{\"default\":null,\"kind\":null,\"name\":\"nrows\"},{\"default\":true,\"kind\":null,\"name\":\"allow_resize\"},{\"default\":true,\"kind\":null,\"name\":\"allow_drag\"},{\"default\":[],\"kind\":null,\"name\":\"state\"}]},{\"extends\":null,\"module\":null,\"name\":\"click1\",\"overrides\":[],\"properties\":[{\"default\":\"\",\"kind\":null,\"name\":\"terminal_output\"},{\"default\":\"\",\"kind\":null,\"name\":\"debug_name\"},{\"default\":0,\"kind\":null,\"name\":\"clears\"}]},{\"extends\":null,\"module\":null,\"name\":\"NotificationAreaBase1\",\"overrides\":[],\"properties\":[{\"default\":\"bottom-right\",\"kind\":null,\"name\":\"position\"},{\"default\":0,\"kind\":null,\"name\":\"_clear\"}]},{\"extends\":null,\"module\":null,\"name\":\"NotificationArea1\",\"overrides\":[],\"properties\":[{\"default\":[],\"kind\":null,\"name\":\"notifications\"},{\"default\":\"bottom-right\",\"kind\":null,\"name\":\"position\"},{\"default\":0,\"kind\":null,\"name\":\"_clear\"},{\"default\":[{\"background\":\"#ffc107\",\"icon\":{\"className\":\"fas fa-exclamation-triangle\",\"color\":\"white\",\"tagName\":\"i\"},\"type\":\"warning\"},{\"background\":\"#007bff\",\"icon\":{\"className\":\"fas fa-info-circle\",\"color\":\"white\",\"tagName\":\"i\"},\"type\":\"info\"}],\"kind\":null,\"name\":\"types\"}]},{\"extends\":null,\"module\":null,\"name\":\"Notification\",\"overrides\":[],\"properties\":[{\"default\":null,\"kind\":null,\"name\":\"background\"},{\"default\":3000,\"kind\":null,\"name\":\"duration\"},{\"default\":null,\"kind\":null,\"name\":\"icon\"},{\"default\":\"\",\"kind\":null,\"name\":\"message\"},{\"default\":null,\"kind\":null,\"name\":\"notification_type\"},{\"default\":false,\"kind\":null,\"name\":\"_destroyed\"}]},{\"extends\":null,\"module\":null,\"name\":\"TemplateActions1\",\"overrides\":[],\"properties\":[{\"default\":0,\"kind\":null,\"name\":\"open_modal\"},{\"default\":0,\"kind\":null,\"name\":\"close_modal\"}]},{\"extends\":null,\"module\":null,\"name\":\"MaterialTemplateActions1\",\"overrides\":[],\"properties\":[{\"default\":0,\"kind\":null,\"name\":\"open_modal\"},{\"default\":0,\"kind\":null,\"name\":\"close_modal\"}]}],\"roots\":{\"references\":[{\"attributes\":{\"margin\":[0,0,0,0],\"tabs\":[{\"id\":\"1004\"}]},\"id\":\"1002\",\"type\":\"panel.models.tabs.Tabs\"},{\"attributes\":{\"reload\":false},\"id\":\"1006\",\"type\":\"panel.models.location.Location\"},{\"attributes\":{\"margin\":[5,5,5,5],\"name\":\"housing\",\"text\":\"&lt;pre&gt;(20640, 10)&lt;/pre&gt;\"},\"id\":\"1003\",\"type\":\"panel.models.markup.HTML\"},{\"attributes\":{\"client_comm_id\":\"45b924d8585145898aa07d4c5e6266f1\",\"comm_id\":\"a63ffb91133d44869938deda05c532fb\",\"plot_id\":\"1002\"},\"id\":\"1005\",\"type\":\"panel.models.comm_manager.CommManager\"},{\"attributes\":{\"child\":{\"id\":\"1003\"},\"name\":\"housing\",\"title\":\"housing\"},\"id\":\"1004\",\"type\":\"Panel\"}],\"root_ids\":[\"1002\",\"1005\",\"1006\"]},\"title\":\"Bokeh Application\",\"version\":\"2.4.3\"}};\n",
       "    var render_items = [{\"docid\":\"32efbd23-5628-478a-9b00-e4d6630781f5\",\"root_ids\":[\"1002\"],\"roots\":{\"1002\":\"597dcdb6-9f68-4bbd-a32e-efc6b03adbcf\"}}];\n",
       "    root.Bokeh.embed.embed_items_notebook(docs_json, render_items);\n",
       "  }\n",
       "  if (root.Bokeh !== undefined && root.Bokeh.Panel !== undefined) {\n",
       "    embed_document(root);\n",
       "  } else {\n",
       "    var attempts = 0;\n",
       "    var timer = setInterval(function(root) {\n",
       "      if (root.Bokeh !== undefined && root.Bokeh.Panel !== undefined) {\n",
       "        clearInterval(timer);\n",
       "        embed_document(root);\n",
       "      } else if (document.readyState == \"complete\") {\n",
       "        attempts++;\n",
       "        if (attempts > 200) {\n",
       "          clearInterval(timer);\n",
       "          console.log(\"Bokeh: ERROR: Unable to run BokehJS code because BokehJS library is missing\");\n",
       "        }\n",
       "      }\n",
       "    }, 25, root)\n",
       "  }\n",
       "})(window);</script>"
      ],
      "text/plain": [
       "Tabs\n",
       "    [0] Str(tuple, name='housing')"
      ]
     },
     "execution_count": 47,
     "metadata": {
      "application/vnd.holoviews_exec.v0+json": {
       "id": "1002"
      }
     },
     "output_type": "execute_result"
    }
   ],
   "source": [
    "display_as_tabs([('housing', housing_df.shape)])"
   ]
  },
  {
   "cell_type": "code",
   "execution_count": 49,
   "metadata": {},
   "outputs": [
    {
     "data": {},
     "metadata": {},
     "output_type": "display_data"
    },
    {
     "data": {
      "application/vnd.holoviews_exec.v0+json": "",
      "text/html": [
       "<div id='1058'>\n",
       "  <div class=\"bk-root\" id=\"74f22264-2961-432e-ba43-61979d2c0efd\" data-root-id=\"1058\"></div>\n",
       "</div>\n",
       "<script type=\"application/javascript\">(function(root) {\n",
       "  function embed_document(root) {\n",
       "    var docs_json = {\"5689b808-3479-4379-945d-007ddda57ba1\":{\"defs\":[{\"extends\":null,\"module\":null,\"name\":\"ReactiveHTML1\",\"overrides\":[],\"properties\":[]},{\"extends\":null,\"module\":null,\"name\":\"FlexBox1\",\"overrides\":[],\"properties\":[{\"default\":\"flex-start\",\"kind\":null,\"name\":\"align_content\"},{\"default\":\"flex-start\",\"kind\":null,\"name\":\"align_items\"},{\"default\":\"row\",\"kind\":null,\"name\":\"flex_direction\"},{\"default\":\"wrap\",\"kind\":null,\"name\":\"flex_wrap\"},{\"default\":\"flex-start\",\"kind\":null,\"name\":\"justify_content\"}]},{\"extends\":null,\"module\":null,\"name\":\"GridStack1\",\"overrides\":[],\"properties\":[{\"default\":\"warn\",\"kind\":null,\"name\":\"mode\"},{\"default\":null,\"kind\":null,\"name\":\"ncols\"},{\"default\":null,\"kind\":null,\"name\":\"nrows\"},{\"default\":true,\"kind\":null,\"name\":\"allow_resize\"},{\"default\":true,\"kind\":null,\"name\":\"allow_drag\"},{\"default\":[],\"kind\":null,\"name\":\"state\"}]},{\"extends\":null,\"module\":null,\"name\":\"click1\",\"overrides\":[],\"properties\":[{\"default\":\"\",\"kind\":null,\"name\":\"terminal_output\"},{\"default\":\"\",\"kind\":null,\"name\":\"debug_name\"},{\"default\":0,\"kind\":null,\"name\":\"clears\"}]},{\"extends\":null,\"module\":null,\"name\":\"NotificationAreaBase1\",\"overrides\":[],\"properties\":[{\"default\":\"bottom-right\",\"kind\":null,\"name\":\"position\"},{\"default\":0,\"kind\":null,\"name\":\"_clear\"}]},{\"extends\":null,\"module\":null,\"name\":\"NotificationArea1\",\"overrides\":[],\"properties\":[{\"default\":[],\"kind\":null,\"name\":\"notifications\"},{\"default\":\"bottom-right\",\"kind\":null,\"name\":\"position\"},{\"default\":0,\"kind\":null,\"name\":\"_clear\"},{\"default\":[{\"background\":\"#ffc107\",\"icon\":{\"className\":\"fas fa-exclamation-triangle\",\"color\":\"white\",\"tagName\":\"i\"},\"type\":\"warning\"},{\"background\":\"#007bff\",\"icon\":{\"className\":\"fas fa-info-circle\",\"color\":\"white\",\"tagName\":\"i\"},\"type\":\"info\"}],\"kind\":null,\"name\":\"types\"}]},{\"extends\":null,\"module\":null,\"name\":\"Notification\",\"overrides\":[],\"properties\":[{\"default\":null,\"kind\":null,\"name\":\"background\"},{\"default\":3000,\"kind\":null,\"name\":\"duration\"},{\"default\":null,\"kind\":null,\"name\":\"icon\"},{\"default\":\"\",\"kind\":null,\"name\":\"message\"},{\"default\":null,\"kind\":null,\"name\":\"notification_type\"},{\"default\":false,\"kind\":null,\"name\":\"_destroyed\"}]},{\"extends\":null,\"module\":null,\"name\":\"TemplateActions1\",\"overrides\":[],\"properties\":[{\"default\":0,\"kind\":null,\"name\":\"open_modal\"},{\"default\":0,\"kind\":null,\"name\":\"close_modal\"}]},{\"extends\":null,\"module\":null,\"name\":\"MaterialTemplateActions1\",\"overrides\":[],\"properties\":[{\"default\":0,\"kind\":null,\"name\":\"open_modal\"},{\"default\":0,\"kind\":null,\"name\":\"close_modal\"}]}],\"roots\":{\"references\":[{\"attributes\":{\"child\":{\"id\":\"1087\"},\"name\":\"housing\",\"title\":\"housing\"},\"id\":\"1091\",\"type\":\"Panel\"},{\"attributes\":{\"editor\":{\"id\":\"1073\"},\"field\":\"Datatype\",\"formatter\":{\"id\":\"1072\"},\"title\":\"Datatype\",\"width\":0},\"id\":\"1074\",\"type\":\"TableColumn\"},{\"attributes\":{},\"id\":\"1072\",\"type\":\"StringFormatter\"},{\"attributes\":{\"columns\":[{\"id\":\"1064\"},{\"id\":\"1069\"},{\"id\":\"1074\"},{\"id\":\"1079\"},{\"id\":\"1084\"}],\"editable\":true,\"height\":300,\"index_position\":null,\"margin\":[5,10,5,10],\"name\":\"housing\",\"row_height\":40,\"sizing_mode\":\"fixed\",\"source\":{\"id\":\"1059\"},\"view\":{\"id\":\"1089\"},\"width\":800},\"id\":\"1087\",\"type\":\"DataTable\"},{\"attributes\":{\"editor\":{\"id\":\"1083\"},\"field\":\"Samples\",\"formatter\":{\"id\":\"1082\"},\"title\":\"Samples\",\"width\":0},\"id\":\"1084\",\"type\":\"TableColumn\"},{\"attributes\":{\"editor\":{\"id\":\"1063\"},\"field\":\"index\",\"formatter\":{\"id\":\"1061\"},\"title\":\"index\",\"width\":0},\"id\":\"1064\",\"type\":\"TableColumn\"},{\"attributes\":{},\"id\":\"1061\",\"type\":\"StringFormatter\"},{\"attributes\":{},\"id\":\"1092\",\"type\":\"UnionRenderers\"},{\"attributes\":{},\"id\":\"1078\",\"type\":\"StringEditor\"},{\"attributes\":{},\"id\":\"1073\",\"type\":\"StringEditor\"},{\"attributes\":{},\"id\":\"1068\",\"type\":\"StringEditor\"},{\"attributes\":{\"editor\":{\"id\":\"1078\"},\"field\":\"No of Unique\",\"formatter\":{\"id\":\"1077\"},\"title\":\"No of Unique\",\"width\":0},\"id\":\"1079\",\"type\":\"TableColumn\"},{\"attributes\":{},\"id\":\"1083\",\"type\":\"StringEditor\"},{\"attributes\":{\"editor\":{\"id\":\"1068\"},\"field\":\"Variable Name\",\"formatter\":{\"id\":\"1067\"},\"title\":\"Variable Name\",\"width\":0},\"id\":\"1069\",\"type\":\"TableColumn\"},{\"attributes\":{\"data\":{\"Datatype\":[\"float64\",\"float64\",\"float64\",\"float64\",\"float64\",\"float64\",\"float64\",\"float64\",\"float64\",\"object\"],\"No of Unique\":[\"844\",\"862\",\"52\",\"5926\",\"1923\",\"3888\",\"1815\",\"12928\",\"3842\",\"5\"],\"Samples\":[\"[-122.23, -122.22, -122.24, -122.25, -122.26]\",\"[37.88, 37.86, 37.85, 37.84, 37.83]\",\"[41.0, 21.0, 52.0, 42.0, 50.0]\",\"[880.0, 7099.0, 1467.0, 1274.0, 1627.0]\",\"[129.0, 1106.0, 190.0, 235.0, 280.0]\",\"[322.0, 2401.0, 496.0, 558.0, 565.0]\",\"[126.0, 1138.0, 177.0, 219.0, 259.0]\",\"[8.3252, 8.3014, 7.2574, 5.6431, 3.8462]\",\"[452600.0, 358500.0, 352100.0, 341300.0, 342200.0]\",\"['NEAR BAY', '<1H OCEAN', 'INLAND', 'NEAR OCEAN', 'ISLAND']\"],\"Variable Name\":[\"longitude\",\"latitude\",\"housing_median_age\",\"total_rooms\",\"total_bedrooms\",\"population\",\"households\",\"median_income\",\"median_house_value\",\"ocean_proximity\"],\"index\":[\"longitude\",\"latitude\",\"housing_median_age\",\"total_rooms\",\"total_bedrooms\",\"population\",\"households\",\"median_income\",\"median_house_value\",\"ocean_proximity\"]},\"selected\":{\"id\":\"1060\"},\"selection_policy\":{\"id\":\"1092\"}},\"id\":\"1059\",\"type\":\"ColumnDataSource\"},{\"attributes\":{\"client_comm_id\":\"54ff664283244d4a877c6d1dc1d7ef86\",\"comm_id\":\"663cda263afa4ae980b230f351954c9b\",\"plot_id\":\"1058\"},\"id\":\"1098\",\"type\":\"panel.models.comm_manager.CommManager\"},{\"attributes\":{},\"id\":\"1077\",\"type\":\"StringFormatter\"},{\"attributes\":{\"source\":{\"id\":\"1059\"}},\"id\":\"1089\",\"type\":\"CDSView\"},{\"attributes\":{},\"id\":\"1067\",\"type\":\"StringFormatter\"},{\"attributes\":{},\"id\":\"1063\",\"type\":\"CellEditor\"},{\"attributes\":{\"indices\":[]},\"id\":\"1060\",\"type\":\"Selection\"},{\"attributes\":{},\"id\":\"1082\",\"type\":\"StringFormatter\"},{\"attributes\":{\"margin\":[0,0,0,0],\"tabs\":[{\"id\":\"1091\"}]},\"id\":\"1058\",\"type\":\"panel.models.tabs.Tabs\"}],\"root_ids\":[\"1058\",\"1098\"]},\"title\":\"Bokeh Application\",\"version\":\"2.4.3\"}};\n",
       "    var render_items = [{\"docid\":\"5689b808-3479-4379-945d-007ddda57ba1\",\"root_ids\":[\"1058\"],\"roots\":{\"1058\":\"74f22264-2961-432e-ba43-61979d2c0efd\"}}];\n",
       "    root.Bokeh.embed.embed_items_notebook(docs_json, render_items);\n",
       "  }\n",
       "  if (root.Bokeh !== undefined && root.Bokeh.Panel !== undefined) {\n",
       "    embed_document(root);\n",
       "  } else {\n",
       "    var attempts = 0;\n",
       "    var timer = setInterval(function(root) {\n",
       "      if (root.Bokeh !== undefined && root.Bokeh.Panel !== undefined) {\n",
       "        clearInterval(timer);\n",
       "        embed_document(root);\n",
       "      } else if (document.readyState == \"complete\") {\n",
       "        attempts++;\n",
       "        if (attempts > 200) {\n",
       "          clearInterval(timer);\n",
       "          console.log(\"Bokeh: ERROR: Unable to run BokehJS code because BokehJS library is missing\");\n",
       "        }\n",
       "      }\n",
       "    }, 25, root)\n",
       "  }\n",
       "})(window);</script>"
      ],
      "text/plain": [
       "Tabs\n",
       "    [0] DataFrame(height=300, name='housing', sizing_mode='fixed', value=                         V..., width=800)"
      ]
     },
     "execution_count": 49,
     "metadata": {
      "application/vnd.holoviews_exec.v0+json": {
       "id": "1058"
      }
     },
     "output_type": "execute_result"
    }
   ],
   "source": [
    "sum1 = eda.get_variable_summary(housing_df)\n",
    "# sum2 = eda.get_variable_summary(prod_df)\n",
    "\n",
    "display_as_tabs([('housing', sum1)])"
   ]
  },
  {
   "cell_type": "code",
   "execution_count": 50,
   "metadata": {},
   "outputs": [
    {
     "data": {
      "text/plain": [
       "longitude               0\n",
       "latitude                0\n",
       "housing_median_age      0\n",
       "total_rooms             0\n",
       "total_bedrooms        207\n",
       "population              0\n",
       "households              0\n",
       "median_income           0\n",
       "median_house_value      0\n",
       "ocean_proximity         0\n",
       "dtype: int64"
      ]
     },
     "execution_count": 50,
     "metadata": {},
     "output_type": "execute_result"
    }
   ],
   "source": [
    "housing_df.isna().sum()"
   ]
  },
  {
   "cell_type": "markdown",
   "metadata": {},
   "source": [
    "**Dev NOTES**\n",
    "\n",
    "<details>\n",
    "1. Datatypes : We have both numeric and other types. The bulk of them seem to be numeric. `Numeric` is defined to be one of [float|int|date] and the rest are categorized as `Others`. A column is assumed to have `date` values if it has the string `date` in the column name.\n"
   ]
  },
  {
   "cell_type": "markdown",
   "metadata": {},
   "source": [
    "## Merging\n",
    "\n",
    "We can merge orders table with prod table on SKU. Let us check first-cut cardinality issues. \n",
    "\n",
    "### Expected data validation rules"
   ]
  },
  {
   "cell_type": "markdown",
   "metadata": {},
   "source": [
    "1. Quantity should be an integer\n",
    "2. Quantity * UnitCost = SellingCost\n",
    "3. Quantity * UnitPrice = SellingPrice"
   ]
  },
  {
   "cell_type": "code",
   "execution_count": 11,
   "metadata": {},
   "outputs": [],
   "source": [
    "verification_dict = {}\n",
    "orders_df = ge.from_pandas(orders_df)"
   ]
  },
  {
   "cell_type": "markdown",
   "metadata": {},
   "source": [
    "#### Rule 1 verification"
   ]
  },
  {
   "cell_type": "code",
   "execution_count": 12,
   "metadata": {},
   "outputs": [
    {
     "name": "stdout",
     "output_type": "stream",
     "text": [
      "Rule 1 passed\n"
     ]
    }
   ],
   "source": [
    "verification_dict[\"rule_1_check\"] = orders_df.expect_column_values_to_be_of_type(\"Quantity\", \"int64\", mostly=None, \n",
    "                                             result_format=\"BASIC\", include_config=True).to_json_dict()\n",
    "\n",
    "if verification_dict[\"rule_1_check\"][\"success\"]:\n",
    "    print(\"Rule 1 passed\")\n",
    "else:\n",
    "    print(\"Rule 1 failed\")"
   ]
  },
  {
   "cell_type": "markdown",
   "metadata": {},
   "source": [
    "#### Rule 2 verification"
   ]
  },
  {
   "cell_type": "code",
   "execution_count": 13,
   "metadata": {},
   "outputs": [
    {
     "name": "stdout",
     "output_type": "stream",
     "text": [
      "Rule 2 failed\n"
     ]
    }
   ],
   "source": [
    "orders_df[\"selling_cal\"] = orders_df[\"Quantity\"] * orders_df[\"UnitCost\"]\n",
    "orders_df.selling_cal = orders_df.selling_cal.round()\n",
    "orders_df[\"act_selling_round\"] = orders_df.SellingCost.round()\n",
    "verification_dict[\"rule_2_check\"] = orders_df.expect_column_pair_values_to_be_equal(\"selling_cal\", \"act_selling_round\", mostly=None, \n",
    "                                             result_format=\"BASIC\", include_config=True).to_json_dict()\n",
    "\n",
    "if verification_dict[\"rule_2_check\"][\"success\"]:\n",
    "    print(\"Rule 2 passed\")\n",
    "else:\n",
    "    print(\"Rule 2 failed\")"
   ]
  },
  {
   "cell_type": "markdown",
   "metadata": {},
   "source": [
    "#### Rule 3 verification"
   ]
  },
  {
   "cell_type": "code",
   "execution_count": 14,
   "metadata": {},
   "outputs": [
    {
     "name": "stdout",
     "output_type": "stream",
     "text": [
      "Rule 3 failed\n"
     ]
    }
   ],
   "source": [
    "orders_df[\"selling_cal\"] = orders_df[\"Quantity\"] * orders_df[\"UnitPrice\"]\n",
    "orders_df.selling_cal = orders_df.selling_cal.round()\n",
    "orders_df[\"act_selling_round\"] = orders_df.SellingPrice.round()\n",
    "verification_dict[\"rule_3_check\"] = orders_df.expect_column_pair_values_to_be_equal(\"selling_cal\", \"act_selling_round\", mostly=None, \n",
    "                                             result_format=\"BASIC\", include_config=True).to_json_dict()\n",
    "\n",
    "if verification_dict[\"rule_3_check\"][\"success\"]:\n",
    "    print(\"Rule 3 passed\")\n",
    "else:\n",
    "    print(\"Rule 3 failed\")"
   ]
  },
  {
   "cell_type": "markdown",
   "metadata": {},
   "source": [
    "#### Rule 2,3"
   ]
  },
  {
   "cell_type": "markdown",
   "metadata": {},
   "source": [
    "Ideally by logic cost * units should give the total cost, however there are some orders where this condition is not matching. We should confirm these condition from client.\n",
    "\n",
    "Similar goes for Price * units"
   ]
  },
  {
   "cell_type": "code",
   "execution_count": 15,
   "metadata": {},
   "outputs": [],
   "source": [
    "# Back to Pandas\n",
    "orders_df = orders_df.drop('selling_cal', axis=1)\n",
    "orders_df = orders_df.drop('act_selling_round', axis=1)\n",
    "orders_df = pd.DataFrame(orders_df)"
   ]
  },
  {
   "cell_type": "markdown",
   "metadata": {},
   "source": [
    "### Table cardinality"
   ]
  },
  {
   "cell_type": "code",
   "execution_count": 16,
   "metadata": {},
   "outputs": [
    {
     "data": {
      "text/plain": [
       "{'A-B': 5, 'B-A': 0, 'AuB': 13549, 'A^B': 13544}"
      ]
     },
     "execution_count": 16,
     "metadata": {},
     "output_type": "execute_result"
    }
   ],
   "source": [
    "from  ta_lib.core.api import setanalyse\n",
    "\n",
    "setanalyse(orders_df.SKU.tolist(),prod_df.SKU.tolist())"
   ]
  },
  {
   "cell_type": "markdown",
   "metadata": {},
   "source": [
    "This represents a venn diagram on two lists. Left list is `A` & right one is `B`. `A-B` implies that are five SKUs in orders_df missing in product master. We can find them using unsimplied version.\n",
    "\n",
    "Let us look at the set `A-B`."
   ]
  },
  {
   "cell_type": "code",
   "execution_count": 17,
   "metadata": {},
   "outputs": [
    {
     "data": {
      "text/plain": [
       "{'APL AWS3AL(G) 42MM GLD CST',\n",
       " 'APL AWS3AL(G+C) 38MM GRY CST',\n",
       " 'SP3 SMS N920 NOTE5 32G GLD DST',\n",
       " 'SP3 SMS S8+ G955 BLK BER SPT',\n",
       " 'UNLKD SONY XPERIA XZS BLK 32GB'}"
      ]
     },
     "execution_count": 17,
     "metadata": {},
     "output_type": "execute_result"
    }
   ],
   "source": [
    "missings_master_skus = setanalyse(orders_df.SKU.tolist(),prod_df.SKU.tolist(),simplify=False)['A-B']\n",
    "missings_master_skus"
   ]
  },
  {
   "cell_type": "code",
   "execution_count": 18,
   "metadata": {},
   "outputs": [
    {
     "name": "stdout",
     "output_type": "stream",
     "text": [
      "Records affected due to missing keys are 402 accounting to 0.23% of orders\n"
     ]
    }
   ],
   "source": [
    "import numpy as np\n",
    "print(('Records affected due to missing keys are {0} accounting to {1}% of orders').format(\n",
    "    orders_df.SKU.isin(missings_master_skus).sum(),np.round(orders_df.SKU.isin(missings_master_skus).mean()*100,2)))"
   ]
  },
  {
   "cell_type": "markdown",
   "metadata": {},
   "source": [
    "**Since missing keys are very less we can proceed with inner join**"
   ]
  },
  {
   "cell_type": "markdown",
   "metadata": {},
   "source": [
    "**Dev NOTES**\n",
    "\n",
    "<details>\n",
    "1. Cardinality with mulitple keys: If you have more than one key use setanalyse_df. You can pass dataframes instead of lists and the key columns\n",
    "2. Excess master data (if `B-A` >0 in above example) will not be concern\n",
    "3. If the `A-B` is larger, please check with client for alternative data sources. In case of left join keep a stragey for imputing.\n"
   ]
  },
  {
   "cell_type": "markdown",
   "metadata": {},
   "source": [
    "### Master uniqueness\n",
    "\n",
    "Product master is expected to have non duplicate primary keys. Let us verify them."
   ]
  },
  {
   "cell_type": "code",
   "execution_count": 19,
   "metadata": {},
   "outputs": [
    {
     "name": "stdout",
     "output_type": "stream",
     "text": [
      "Found 1 duplicates in master. Sample duplicates are:\n",
      "                              SKU  Frequency\n",
      "0  UNLKD SONY XPERIA XZS BLUE 32G          2\n"
     ]
    }
   ],
   "source": [
    "# Snippet \n",
    "df_freq = prod_df.SKU.value_counts().reset_index()\n",
    "df_freq.columns = ['SKU','Frequency']\n",
    "fil_ = df_freq.Frequency>1\n",
    "if fil_.sum() > 0:\n",
    "    print((\"Found {0} duplicates in master. Sample duplicates are:\").format(fil_.sum()))\n",
    "    print(df_freq[fil_].head())\n",
    "else:\n",
    "    print(\"No duplciates in primary key\")"
   ]
  },
  {
   "cell_type": "code",
   "execution_count": 20,
   "metadata": {},
   "outputs": [
    {
     "data": {
      "text/plain": [
       "13545"
      ]
     },
     "execution_count": 20,
     "metadata": {},
     "output_type": "execute_result"
    }
   ],
   "source": [
    "len(prod_df)"
   ]
  },
  {
   "cell_type": "code",
   "execution_count": 21,
   "metadata": {},
   "outputs": [
    {
     "name": "stdout",
     "output_type": "stream",
     "text": [
      "No. of rows before dropping duplicate SKUs: 13545\n",
      "No. of rows after dropping duplicate SKUs: 13544\n"
     ]
    }
   ],
   "source": [
    "# Dropping inconsistent records\n",
    "print((\"No. of rows before dropping duplicate SKUs: {0}\".format(prod_df.shape[0])))\n",
    "fil_ = (prod_df.SKU == 'UNLKD SONY XPERIA XZS BLUE 32G') & (prod_df.color.str.strip() == 'BLACK')\n",
    "prod_df = prod_df[~fil_]\n",
    "print((\"No. of rows after dropping duplicate SKUs: {0}\".format(prod_df.shape[0])))"
   ]
  },
  {
   "cell_type": "markdown",
   "metadata": {},
   "source": [
    "## Health Analysis"
   ]
  },
  {
   "cell_type": "markdown",
   "metadata": {},
   "source": [
    "Get an overview of the overall health of the dataset. This is usually quick to compute and hopefully highlights some problems to focus on.\n",
    "\n"
   ]
  },
  {
   "cell_type": "markdown",
   "metadata": {},
   "source": [
    "### Summary Plot\n",
    "\n",
    "Provides a high level summary of the dataset health.\n",
    "\n",
    "**Watch out for:**\n",
    "\n",
    "* too few numeric values\n",
    "* high % of missing values\n",
    "* high % of duplicate values\n",
    "* high % of duplicate columns "
   ]
  },
  {
   "cell_type": "code",
   "execution_count": 51,
   "metadata": {},
   "outputs": [
    {
     "data": {},
     "metadata": {},
     "output_type": "display_data"
    },
    {
     "data": {},
     "metadata": {},
     "output_type": "display_data"
    },
    {
     "data": {
      "application/vnd.holoviews_exec.v0+json": "",
      "text/html": [
       "<div id='1110'>\n",
       "  <div class=\"bk-root\" id=\"450e3e4c-720a-4c1b-8141-4074631921c7\" data-root-id=\"1110\"></div>\n",
       "</div>\n",
       "<script type=\"application/javascript\">(function(root) {\n",
       "  function embed_document(root) {\n",
       "    var docs_json = {\"d267c303-0373-4f1a-b946-990133d59f21\":{\"defs\":[{\"extends\":null,\"module\":null,\"name\":\"ReactiveHTML1\",\"overrides\":[],\"properties\":[]},{\"extends\":null,\"module\":null,\"name\":\"FlexBox1\",\"overrides\":[],\"properties\":[{\"default\":\"flex-start\",\"kind\":null,\"name\":\"align_content\"},{\"default\":\"flex-start\",\"kind\":null,\"name\":\"align_items\"},{\"default\":\"row\",\"kind\":null,\"name\":\"flex_direction\"},{\"default\":\"wrap\",\"kind\":null,\"name\":\"flex_wrap\"},{\"default\":\"flex-start\",\"kind\":null,\"name\":\"justify_content\"}]},{\"extends\":null,\"module\":null,\"name\":\"GridStack1\",\"overrides\":[],\"properties\":[{\"default\":\"warn\",\"kind\":null,\"name\":\"mode\"},{\"default\":null,\"kind\":null,\"name\":\"ncols\"},{\"default\":null,\"kind\":null,\"name\":\"nrows\"},{\"default\":true,\"kind\":null,\"name\":\"allow_resize\"},{\"default\":true,\"kind\":null,\"name\":\"allow_drag\"},{\"default\":[],\"kind\":null,\"name\":\"state\"}]},{\"extends\":null,\"module\":null,\"name\":\"click1\",\"overrides\":[],\"properties\":[{\"default\":\"\",\"kind\":null,\"name\":\"terminal_output\"},{\"default\":\"\",\"kind\":null,\"name\":\"debug_name\"},{\"default\":0,\"kind\":null,\"name\":\"clears\"}]},{\"extends\":null,\"module\":null,\"name\":\"NotificationAreaBase1\",\"overrides\":[],\"properties\":[{\"default\":\"bottom-right\",\"kind\":null,\"name\":\"position\"},{\"default\":0,\"kind\":null,\"name\":\"_clear\"}]},{\"extends\":null,\"module\":null,\"name\":\"NotificationArea1\",\"overrides\":[],\"properties\":[{\"default\":[],\"kind\":null,\"name\":\"notifications\"},{\"default\":\"bottom-right\",\"kind\":null,\"name\":\"position\"},{\"default\":0,\"kind\":null,\"name\":\"_clear\"},{\"default\":[{\"background\":\"#ffc107\",\"icon\":{\"className\":\"fas fa-exclamation-triangle\",\"color\":\"white\",\"tagName\":\"i\"},\"type\":\"warning\"},{\"background\":\"#007bff\",\"icon\":{\"className\":\"fas fa-info-circle\",\"color\":\"white\",\"tagName\":\"i\"},\"type\":\"info\"}],\"kind\":null,\"name\":\"types\"}]},{\"extends\":null,\"module\":null,\"name\":\"Notification\",\"overrides\":[],\"properties\":[{\"default\":null,\"kind\":null,\"name\":\"background\"},{\"default\":3000,\"kind\":null,\"name\":\"duration\"},{\"default\":null,\"kind\":null,\"name\":\"icon\"},{\"default\":\"\",\"kind\":null,\"name\":\"message\"},{\"default\":null,\"kind\":null,\"name\":\"notification_type\"},{\"default\":false,\"kind\":null,\"name\":\"_destroyed\"}]},{\"extends\":null,\"module\":null,\"name\":\"TemplateActions1\",\"overrides\":[],\"properties\":[{\"default\":0,\"kind\":null,\"name\":\"open_modal\"},{\"default\":0,\"kind\":null,\"name\":\"close_modal\"}]},{\"extends\":null,\"module\":null,\"name\":\"MaterialTemplateActions1\",\"overrides\":[],\"properties\":[{\"default\":0,\"kind\":null,\"name\":\"open_modal\"},{\"default\":0,\"kind\":null,\"name\":\"close_modal\"}]}],\"roots\":{\"references\":[{\"attributes\":{},\"id\":\"1121\",\"type\":\"CategoricalScale\"},{\"attributes\":{},\"id\":\"1340\",\"type\":\"CategoricalTickFormatter\"},{\"attributes\":{\"overlay\":{\"id\":\"1321\"}},\"id\":\"1319\",\"type\":\"BoxZoomTool\"},{\"attributes\":{\"coordinates\":null,\"group\":null,\"text\":\"Datatypes\",\"text_color\":\"black\",\"text_font_size\":\"12pt\"},\"id\":\"1115\",\"type\":\"Title\"},{\"attributes\":{},\"id\":\"1254\",\"type\":\"SaveTool\"},{\"attributes\":{},\"id\":\"1320\",\"type\":\"ResetTool\"},{\"attributes\":{},\"id\":\"1316\",\"type\":\"SaveTool\"},{\"attributes\":{\"axis\":{\"id\":\"1123\"},\"coordinates\":null,\"grid_line_color\":null,\"group\":null,\"ticker\":null},\"id\":\"1126\",\"type\":\"Grid\"},{\"attributes\":{\"axis_label\":\"\",\"coordinates\":null,\"formatter\":{\"id\":\"1157\"},\"group\":null,\"major_label_policy\":{\"id\":\"1158\"},\"ticker\":{\"id\":\"1165\"}},\"id\":\"1123\",\"type\":\"LinearAxis\"},{\"attributes\":{\"bottom_units\":\"screen\",\"coordinates\":null,\"fill_alpha\":0.5,\"fill_color\":\"lightgrey\",\"group\":null,\"left_units\":\"screen\",\"level\":\"overlay\",\"line_alpha\":1.0,\"line_color\":\"black\",\"line_dash\":[4,4],\"line_width\":2,\"right_units\":\"screen\",\"syncable\":false,\"top_units\":\"screen\"},\"id\":\"1321\",\"type\":\"BoxAnnotation\"},{\"attributes\":{\"coordinates\":null,\"group\":null,\"items\":[{\"id\":\"1287\"}],\"location\":[0,0]},\"id\":\"1286\",\"type\":\"Legend\"},{\"attributes\":{},\"id\":\"1331\",\"type\":\"Selection\"},{\"attributes\":{\"axis\":{\"id\":\"1127\"},\"coordinates\":null,\"dimension\":1,\"grid_line_color\":null,\"group\":null,\"ticker\":null},\"id\":\"1129\",\"type\":\"Grid\"},{\"attributes\":{\"toolbars\":[{\"id\":\"1136\"},{\"id\":\"1198\"},{\"id\":\"1260\"},{\"id\":\"1322\"}],\"tools\":[{\"id\":\"1113\"},{\"id\":\"1130\"},{\"id\":\"1131\"},{\"id\":\"1132\"},{\"id\":\"1133\"},{\"id\":\"1134\"},{\"id\":\"1175\"},{\"id\":\"1192\"},{\"id\":\"1193\"},{\"id\":\"1194\"},{\"id\":\"1195\"},{\"id\":\"1196\"},{\"id\":\"1237\"},{\"id\":\"1254\"},{\"id\":\"1255\"},{\"id\":\"1256\"},{\"id\":\"1257\"},{\"id\":\"1258\"},{\"id\":\"1299\"},{\"id\":\"1316\"},{\"id\":\"1317\"},{\"id\":\"1318\"},{\"id\":\"1319\"},{\"id\":\"1320\"}]},\"id\":\"1401\",\"type\":\"ProxyToolbar\"},{\"attributes\":{\"margin\":[0,0,0,0],\"tabs\":[{\"id\":\"1694\"}]},\"id\":\"1110\",\"type\":\"panel.models.tabs.Tabs\"},{\"attributes\":{\"axis_label\":\"\",\"coordinates\":null,\"formatter\":{\"id\":\"1278\"},\"group\":null,\"major_label_policy\":{\"id\":\"1279\"},\"ticker\":{\"id\":\"1252\"}},\"id\":\"1251\",\"type\":\"CategoricalAxis\"},{\"attributes\":{},\"id\":\"1279\",\"type\":\"AllLabels\"},{\"attributes\":{\"factors\":[\"Unique\",\"Duplicate\"],\"palette\":[\"#30a2da\",\"#fc4f30\"]},\"id\":\"1329\",\"type\":\"CategoricalColorMapper\"},{\"attributes\":{\"axis_label\":\"\",\"coordinates\":null,\"formatter\":{\"id\":\"1154\"},\"group\":null,\"major_label_policy\":{\"id\":\"1155\"},\"ticker\":{\"id\":\"1128\"}},\"id\":\"1127\",\"type\":\"CategoricalAxis\"},{\"attributes\":{},\"id\":\"1317\",\"type\":\"PanTool\"},{\"attributes\":{},\"id\":\"1128\",\"type\":\"CategoricalTicker\"},{\"attributes\":{\"client_comm_id\":\"3cca422d204e43a1960a99ec46faf11c\",\"comm_id\":\"33c7f4156bb840aea7decb7220179417\",\"plot_id\":\"1110\"},\"id\":\"1803\",\"type\":\"panel.models.comm_manager.CommManager\"},{\"attributes\":{},\"id\":\"1130\",\"type\":\"SaveTool\"},{\"attributes\":{},\"id\":\"1341\",\"type\":\"AllLabels\"},{\"attributes\":{\"bottom_units\":\"screen\",\"coordinates\":null,\"fill_alpha\":0.5,\"fill_color\":\"lightgrey\",\"group\":null,\"left_units\":\"screen\",\"level\":\"overlay\",\"line_alpha\":1.0,\"line_color\":\"black\",\"line_dash\":[4,4],\"line_width\":2,\"right_units\":\"screen\",\"syncable\":false,\"top_units\":\"screen\"},\"id\":\"1135\",\"type\":\"BoxAnnotation\"},{\"attributes\":{\"label\":{\"field\":\"labels\"},\"renderers\":[{\"id\":\"1274\"}]},\"id\":\"1287\",\"type\":\"LegendItem\"},{\"attributes\":{},\"id\":\"1131\",\"type\":\"PanTool\"},{\"attributes\":{},\"id\":\"1132\",\"type\":\"WheelZoomTool\"},{\"attributes\":{\"coordinates\":null,\"group\":null,\"items\":[{\"id\":\"1349\"}],\"location\":[0,0]},\"id\":\"1348\",\"type\":\"Legend\"},{\"attributes\":{\"overlay\":{\"id\":\"1135\"}},\"id\":\"1133\",\"type\":\"BoxZoomTool\"},{\"attributes\":{},\"id\":\"1344\",\"type\":\"AllLabels\"},{\"attributes\":{\"child\":{\"id\":\"1405\"},\"name\":\"housing\",\"title\":\"housing\"},\"id\":\"1694\",\"type\":\"Panel\"},{\"attributes\":{},\"id\":\"1134\",\"type\":\"ResetTool\"},{\"attributes\":{},\"id\":\"1343\",\"type\":\"BasicTickFormatter\"},{\"attributes\":{\"callback\":null,\"renderers\":[{\"id\":\"1274\"}],\"tags\":[\"hv_created\"],\"tooltips\":[[\"index\",\"@{index}\"],[\"labels\",\"@{labels}\"],[\"value\",\"@{value}\"]]},\"id\":\"1237\",\"type\":\"HoverTool\"},{\"attributes\":{},\"id\":\"1318\",\"type\":\"WheelZoomTool\"},{\"attributes\":{},\"id\":\"1145\",\"type\":\"Selection\"},{\"attributes\":{\"axis\":{\"id\":\"1313\"},\"coordinates\":null,\"dimension\":1,\"grid_line_color\":null,\"group\":null,\"ticker\":null},\"id\":\"1315\",\"type\":\"Grid\"},{\"attributes\":{\"fill_alpha\":{\"value\":1.0},\"fill_color\":{\"field\":\"labels\",\"transform\":{\"id\":\"1143\"}},\"hatch_alpha\":{\"value\":1.0},\"hatch_color\":{\"field\":\"labels\",\"transform\":{\"id\":\"1143\"}},\"hatch_scale\":{\"value\":12.0},\"hatch_weight\":{\"value\":1.0},\"height\":{\"value\":0.8},\"left\":{\"field\":\"bottom\"},\"line_alpha\":{\"value\":1.0},\"line_cap\":{\"value\":\"butt\"},\"line_color\":{\"value\":\"black\"},\"line_dash\":{\"value\":[]},\"line_dash_offset\":{\"value\":0},\"line_join\":{\"value\":\"bevel\"},\"line_width\":{\"value\":1},\"right\":{\"field\":\"top\"},\"y\":{\"field\":\"index\"}},\"id\":\"1164\",\"type\":\"HBar\"},{\"attributes\":{\"overlay\":{\"id\":\"1259\"}},\"id\":\"1257\",\"type\":\"BoxZoomTool\"},{\"attributes\":{\"data\":{\"bottom\":{\"__ndarray__\":\"AAAAAAAAAABNWVPWlPlYQA==\",\"dtype\":\"float64\",\"order\":\"little\",\"shape\":[2]},\"index\":[\"values\",\"values\"],\"labels\":[\"Available\",\"Missing\"],\"top\":{\"__ndarray__\":\"TVlT1pT5WEAAAAAAAABZQA==\",\"dtype\":\"float64\",\"order\":\"little\",\"shape\":[2]},\"value\":{\"__ndarray__\":\"TVlT1pT5WEBrypqypqy5Pw==\",\"dtype\":\"float64\",\"order\":\"little\",\"shape\":[2]}},\"selected\":{\"id\":\"1207\"},\"selection_policy\":{\"id\":\"1221\"}},\"id\":\"1206\",\"type\":\"ColumnDataSource\"},{\"attributes\":{},\"id\":\"1314\",\"type\":\"CategoricalTicker\"},{\"attributes\":{\"ticks\":[0]},\"id\":\"1165\",\"type\":\"FixedTicker\"},{\"attributes\":{\"fill_alpha\":{\"value\":0.2},\"fill_color\":{\"field\":\"labels\",\"transform\":{\"id\":\"1267\"}},\"hatch_alpha\":{\"value\":0.2},\"hatch_color\":{\"field\":\"labels\",\"transform\":{\"id\":\"1267\"}},\"height\":{\"value\":0.8},\"left\":{\"field\":\"bottom\"},\"line_alpha\":{\"value\":0.2},\"right\":{\"field\":\"top\"},\"y\":{\"field\":\"index\"}},\"id\":\"1273\",\"type\":\"HBar\"},{\"attributes\":{\"below\":[{\"id\":\"1247\"}],\"center\":[{\"id\":\"1250\"},{\"id\":\"1253\"},{\"id\":\"1286\"}],\"height\":100,\"left\":[{\"id\":\"1251\"}],\"margin\":null,\"min_border_bottom\":10,\"min_border_left\":10,\"min_border_right\":10,\"min_border_top\":10,\"renderers\":[{\"id\":\"1274\"}],\"right\":[{\"id\":\"1286\"}],\"sizing_mode\":\"fixed\",\"title\":{\"id\":\"1239\"},\"toolbar\":{\"id\":\"1260\"},\"toolbar_location\":null,\"width\":700,\"x_range\":{\"id\":\"1111\"},\"x_scale\":{\"id\":\"1243\"},\"y_range\":{\"id\":\"1112\"},\"y_scale\":{\"id\":\"1245\"}},\"id\":\"1238\",\"subtype\":\"Figure\",\"type\":\"Plot\"},{\"attributes\":{},\"id\":\"1194\",\"type\":\"WheelZoomTool\"},{\"attributes\":{\"axis_label\":\"\",\"coordinates\":null,\"formatter\":{\"id\":\"1216\"},\"group\":null,\"major_label_policy\":{\"id\":\"1217\"},\"ticker\":{\"id\":\"1190\"}},\"id\":\"1189\",\"type\":\"CategoricalAxis\"},{\"attributes\":{\"fill_alpha\":{\"value\":0.2},\"fill_color\":{\"field\":\"labels\",\"transform\":{\"id\":\"1329\"}},\"hatch_alpha\":{\"value\":0.2},\"hatch_color\":{\"field\":\"labels\",\"transform\":{\"id\":\"1329\"}},\"height\":{\"value\":0.8},\"left\":{\"field\":\"bottom\"},\"line_alpha\":{\"value\":0.2},\"right\":{\"field\":\"top\"},\"y\":{\"field\":\"index\"}},\"id\":\"1335\",\"type\":\"HBar\"},{\"attributes\":{\"fill_alpha\":{\"value\":0.1},\"fill_color\":{\"field\":\"labels\",\"transform\":{\"id\":\"1143\"}},\"hatch_alpha\":{\"value\":0.1},\"hatch_color\":{\"field\":\"labels\",\"transform\":{\"id\":\"1143\"}},\"height\":{\"value\":0.8},\"left\":{\"field\":\"bottom\"},\"line_alpha\":{\"value\":0.1},\"right\":{\"field\":\"top\"},\"y\":{\"field\":\"index\"}},\"id\":\"1148\",\"type\":\"HBar\"},{\"attributes\":{\"tools\":[{\"id\":\"1237\"},{\"id\":\"1254\"},{\"id\":\"1255\"},{\"id\":\"1256\"},{\"id\":\"1257\"},{\"id\":\"1258\"}]},\"id\":\"1260\",\"type\":\"Toolbar\"},{\"attributes\":{\"axis\":{\"id\":\"1185\"},\"coordinates\":null,\"grid_line_color\":null,\"group\":null,\"ticker\":null},\"id\":\"1188\",\"type\":\"Grid\"},{\"attributes\":{\"tools\":[{\"id\":\"1299\"},{\"id\":\"1316\"},{\"id\":\"1317\"},{\"id\":\"1318\"},{\"id\":\"1319\"},{\"id\":\"1320\"}]},\"id\":\"1322\",\"type\":\"Toolbar\"},{\"attributes\":{},\"id\":\"1243\",\"type\":\"LinearScale\"},{\"attributes\":{\"fill_alpha\":{\"value\":0.1},\"fill_color\":{\"field\":\"labels\",\"transform\":{\"id\":\"1267\"}},\"hatch_alpha\":{\"value\":0.1},\"hatch_color\":{\"field\":\"labels\",\"transform\":{\"id\":\"1267\"}},\"height\":{\"value\":0.8},\"left\":{\"field\":\"bottom\"},\"line_alpha\":{\"value\":0.1},\"right\":{\"field\":\"top\"},\"y\":{\"field\":\"index\"}},\"id\":\"1272\",\"type\":\"HBar\"},{\"attributes\":{\"axis_label\":\"\",\"coordinates\":null,\"formatter\":{\"id\":\"1340\"},\"group\":null,\"major_label_policy\":{\"id\":\"1341\"},\"ticker\":{\"id\":\"1314\"}},\"id\":\"1313\",\"type\":\"CategoricalAxis\"},{\"attributes\":{\"axis\":{\"id\":\"1247\"},\"coordinates\":null,\"grid_line_color\":null,\"group\":null,\"ticker\":null},\"id\":\"1250\",\"type\":\"Grid\"},{\"attributes\":{\"coordinates\":null,\"data_source\":{\"id\":\"1268\"},\"glyph\":{\"id\":\"1271\"},\"group\":null,\"hover_glyph\":null,\"muted_glyph\":{\"id\":\"1273\"},\"nonselection_glyph\":{\"id\":\"1272\"},\"selection_glyph\":{\"id\":\"1288\"},\"view\":{\"id\":\"1275\"}},\"id\":\"1274\",\"type\":\"GlyphRenderer\"},{\"attributes\":{\"fill_color\":{\"field\":\"labels\",\"transform\":{\"id\":\"1267\"}},\"hatch_color\":{\"field\":\"labels\",\"transform\":{\"id\":\"1267\"}},\"height\":{\"value\":0.8},\"left\":{\"field\":\"bottom\"},\"right\":{\"field\":\"top\"},\"y\":{\"field\":\"index\"}},\"id\":\"1271\",\"type\":\"HBar\"},{\"attributes\":{},\"id\":\"1282\",\"type\":\"AllLabels\"},{\"attributes\":{},\"id\":\"1269\",\"type\":\"Selection\"},{\"attributes\":{},\"id\":\"1345\",\"type\":\"UnionRenderers\"},{\"attributes\":{\"source\":{\"id\":\"1268\"}},\"id\":\"1275\",\"type\":\"CDSView\"},{\"attributes\":{\"fill_alpha\":{\"value\":0.1},\"fill_color\":{\"field\":\"labels\",\"transform\":{\"id\":\"1329\"}},\"hatch_alpha\":{\"value\":0.1},\"hatch_color\":{\"field\":\"labels\",\"transform\":{\"id\":\"1329\"}},\"height\":{\"value\":0.8},\"left\":{\"field\":\"bottom\"},\"line_alpha\":{\"value\":0.1},\"right\":{\"field\":\"top\"},\"y\":{\"field\":\"index\"}},\"id\":\"1334\",\"type\":\"HBar\"},{\"attributes\":{\"factors\":[\"Unique\",\"Duplicate\"],\"palette\":[\"#30a2da\",\"#fc4f30\"]},\"id\":\"1267\",\"type\":\"CategoricalColorMapper\"},{\"attributes\":{\"fill_alpha\":{\"value\":1.0},\"fill_color\":{\"field\":\"labels\",\"transform\":{\"id\":\"1267\"}},\"hatch_alpha\":{\"value\":1.0},\"hatch_color\":{\"field\":\"labels\",\"transform\":{\"id\":\"1267\"}},\"hatch_scale\":{\"value\":12.0},\"hatch_weight\":{\"value\":1.0},\"height\":{\"value\":0.8},\"left\":{\"field\":\"bottom\"},\"line_alpha\":{\"value\":1.0},\"line_cap\":{\"value\":\"butt\"},\"line_color\":{\"value\":\"black\"},\"line_dash\":{\"value\":[]},\"line_dash_offset\":{\"value\":0},\"line_join\":{\"value\":\"bevel\"},\"line_width\":{\"value\":1},\"right\":{\"field\":\"top\"},\"y\":{\"field\":\"index\"}},\"id\":\"1288\",\"type\":\"HBar\"},{\"attributes\":{},\"id\":\"1252\",\"type\":\"CategoricalTicker\"},{\"attributes\":{},\"id\":\"1196\",\"type\":\"ResetTool\"},{\"attributes\":{},\"id\":\"1305\",\"type\":\"LinearScale\"},{\"attributes\":{\"axis\":{\"id\":\"1189\"},\"coordinates\":null,\"dimension\":1,\"grid_line_color\":null,\"group\":null,\"ticker\":null},\"id\":\"1191\",\"type\":\"Grid\"},{\"attributes\":{\"source\":{\"id\":\"1144\"}},\"id\":\"1151\",\"type\":\"CDSView\"},{\"attributes\":{\"source\":{\"id\":\"1330\"}},\"id\":\"1337\",\"type\":\"CDSView\"},{\"attributes\":{},\"id\":\"1281\",\"type\":\"BasicTickFormatter\"},{\"attributes\":{},\"id\":\"1216\",\"type\":\"CategoricalTickFormatter\"},{\"attributes\":{},\"id\":\"1256\",\"type\":\"WheelZoomTool\"},{\"attributes\":{},\"id\":\"1278\",\"type\":\"CategoricalTickFormatter\"},{\"attributes\":{\"ticks\":[0]},\"id\":\"1289\",\"type\":\"FixedTicker\"},{\"attributes\":{\"below\":[{\"id\":\"1185\"}],\"center\":[{\"id\":\"1188\"},{\"id\":\"1191\"},{\"id\":\"1224\"}],\"height\":100,\"left\":[{\"id\":\"1189\"}],\"margin\":null,\"min_border_bottom\":10,\"min_border_left\":10,\"min_border_right\":10,\"min_border_top\":10,\"renderers\":[{\"id\":\"1212\"}],\"right\":[{\"id\":\"1224\"}],\"sizing_mode\":\"fixed\",\"title\":{\"id\":\"1177\"},\"toolbar\":{\"id\":\"1198\"},\"toolbar_location\":null,\"width\":700,\"x_range\":{\"id\":\"1111\"},\"x_scale\":{\"id\":\"1181\"},\"y_range\":{\"id\":\"1112\"},\"y_scale\":{\"id\":\"1183\"}},\"id\":\"1176\",\"subtype\":\"Figure\",\"type\":\"Plot\"},{\"attributes\":{\"axis_label\":\"\",\"coordinates\":null,\"formatter\":{\"id\":\"1281\"},\"group\":null,\"major_label_policy\":{\"id\":\"1282\"},\"ticker\":{\"id\":\"1289\"}},\"id\":\"1247\",\"type\":\"LinearAxis\"},{\"attributes\":{},\"id\":\"1258\",\"type\":\"ResetTool\"},{\"attributes\":{\"factors\":[\"Available\",\"Missing\"],\"palette\":[\"#30a2da\",\"#fc4f30\"]},\"id\":\"1205\",\"type\":\"CategoricalColorMapper\"},{\"attributes\":{},\"id\":\"1181\",\"type\":\"LinearScale\"},{\"attributes\":{},\"id\":\"1245\",\"type\":\"CategoricalScale\"},{\"attributes\":{},\"id\":\"1219\",\"type\":\"BasicTickFormatter\"},{\"attributes\":{\"tools\":[{\"id\":\"1113\"},{\"id\":\"1130\"},{\"id\":\"1131\"},{\"id\":\"1132\"},{\"id\":\"1133\"},{\"id\":\"1134\"}]},\"id\":\"1136\",\"type\":\"Toolbar\"},{\"attributes\":{},\"id\":\"1255\",\"type\":\"PanTool\"},{\"attributes\":{},\"id\":\"1192\",\"type\":\"SaveTool\"},{\"attributes\":{\"axis\":{\"id\":\"1251\"},\"coordinates\":null,\"dimension\":1,\"grid_line_color\":null,\"group\":null,\"ticker\":null},\"id\":\"1253\",\"type\":\"Grid\"},{\"attributes\":{\"bottom_units\":\"screen\",\"coordinates\":null,\"fill_alpha\":0.5,\"fill_color\":\"lightgrey\",\"group\":null,\"left_units\":\"screen\",\"level\":\"overlay\",\"line_alpha\":1.0,\"line_color\":\"black\",\"line_dash\":[4,4],\"line_width\":2,\"right_units\":\"screen\",\"syncable\":false,\"top_units\":\"screen\"},\"id\":\"1259\",\"type\":\"BoxAnnotation\"},{\"attributes\":{},\"id\":\"1183\",\"type\":\"CategoricalScale\"},{\"attributes\":{\"fill_alpha\":{\"value\":0.2},\"fill_color\":{\"field\":\"labels\",\"transform\":{\"id\":\"1143\"}},\"hatch_alpha\":{\"value\":0.2},\"hatch_color\":{\"field\":\"labels\",\"transform\":{\"id\":\"1143\"}},\"height\":{\"value\":0.8},\"left\":{\"field\":\"bottom\"},\"line_alpha\":{\"value\":0.2},\"right\":{\"field\":\"top\"},\"y\":{\"field\":\"index\"}},\"id\":\"1149\",\"type\":\"HBar\"},{\"attributes\":{\"callback\":null,\"renderers\":[{\"id\":\"1212\"}],\"tags\":[\"hv_created\"],\"tooltips\":[[\"index\",\"@{index}\"],[\"labels\",\"@{labels}\"],[\"value\",\"@{value}\"]]},\"id\":\"1175\",\"type\":\"HoverTool\"},{\"attributes\":{\"coordinates\":null,\"group\":null,\"items\":[{\"id\":\"1163\"}],\"location\":[0,0]},\"id\":\"1162\",\"type\":\"Legend\"},{\"attributes\":{\"coordinates\":null,\"data_source\":{\"id\":\"1330\"},\"glyph\":{\"id\":\"1333\"},\"group\":null,\"hover_glyph\":null,\"muted_glyph\":{\"id\":\"1335\"},\"nonselection_glyph\":{\"id\":\"1334\"},\"selection_glyph\":{\"id\":\"1350\"},\"view\":{\"id\":\"1337\"}},\"id\":\"1336\",\"type\":\"GlyphRenderer\"},{\"attributes\":{\"children\":[[{\"id\":\"1114\"},0,0],[{\"id\":\"1176\"},1,0],[{\"id\":\"1238\"},2,0],[{\"id\":\"1300\"},3,0]]},\"id\":\"1400\",\"type\":\"GridBox\"},{\"attributes\":{},\"id\":\"1193\",\"type\":\"PanTool\"},{\"attributes\":{\"overlay\":{\"id\":\"1197\"}},\"id\":\"1195\",\"type\":\"BoxZoomTool\"},{\"attributes\":{},\"id\":\"1307\",\"type\":\"CategoricalScale\"},{\"attributes\":{\"data\":{\"bottom\":{\"__ndarray__\":\"AAAAAAAAAAAAAAAAAABZQA==\",\"dtype\":\"float64\",\"order\":\"little\",\"shape\":[2]},\"index\":[\"values\",\"values\"],\"labels\":[\"Unique\",\"Duplicate\"],\"top\":{\"__ndarray__\":\"AAAAAAAAWUAAAAAAAABZQA==\",\"dtype\":\"float64\",\"order\":\"little\",\"shape\":[2]},\"value\":{\"__ndarray__\":\"AAAAAAAAWUAAAAAAAAAAAA==\",\"dtype\":\"float64\",\"order\":\"little\",\"shape\":[2]}},\"selected\":{\"id\":\"1331\"},\"selection_policy\":{\"id\":\"1345\"}},\"id\":\"1330\",\"type\":\"ColumnDataSource\"},{\"attributes\":{\"coordinates\":null,\"group\":null,\"text\":\"Duplicate Values\",\"text_color\":\"black\",\"text_font_size\":\"12pt\"},\"id\":\"1239\",\"type\":\"Title\"},{\"attributes\":{\"coordinates\":null,\"group\":null,\"text\":\"Missing Values\",\"text_color\":\"black\",\"text_font_size\":\"12pt\"},\"id\":\"1177\",\"type\":\"Title\"},{\"attributes\":{\"axis_label\":\"\",\"coordinates\":null,\"formatter\":{\"id\":\"1343\"},\"group\":null,\"major_label_policy\":{\"id\":\"1344\"},\"ticker\":{\"id\":\"1351\"}},\"id\":\"1309\",\"type\":\"LinearAxis\"},{\"attributes\":{\"below\":[{\"id\":\"1309\"}],\"center\":[{\"id\":\"1312\"},{\"id\":\"1315\"},{\"id\":\"1348\"}],\"height\":100,\"left\":[{\"id\":\"1313\"}],\"margin\":null,\"min_border_bottom\":10,\"min_border_left\":10,\"min_border_right\":10,\"min_border_top\":10,\"renderers\":[{\"id\":\"1336\"}],\"right\":[{\"id\":\"1348\"}],\"sizing_mode\":\"fixed\",\"title\":{\"id\":\"1301\"},\"toolbar\":{\"id\":\"1322\"},\"toolbar_location\":null,\"width\":700,\"x_range\":{\"id\":\"1111\"},\"x_scale\":{\"id\":\"1305\"},\"y_range\":{\"id\":\"1112\"},\"y_scale\":{\"id\":\"1307\"}},\"id\":\"1300\",\"subtype\":\"Figure\",\"type\":\"Plot\"},{\"attributes\":{},\"id\":\"1190\",\"type\":\"CategoricalTicker\"},{\"attributes\":{},\"id\":\"1283\",\"type\":\"UnionRenderers\"},{\"attributes\":{\"callback\":null,\"renderers\":[{\"id\":\"1336\"}],\"tags\":[\"hv_created\"],\"tooltips\":[[\"index\",\"@{index}\"],[\"labels\",\"@{labels}\"],[\"value\",\"@{value}\"]]},\"id\":\"1299\",\"type\":\"HoverTool\"},{\"attributes\":{\"coordinates\":null,\"data_source\":{\"id\":\"1144\"},\"glyph\":{\"id\":\"1147\"},\"group\":null,\"hover_glyph\":null,\"muted_glyph\":{\"id\":\"1149\"},\"nonselection_glyph\":{\"id\":\"1148\"},\"selection_glyph\":{\"id\":\"1164\"},\"view\":{\"id\":\"1151\"}},\"id\":\"1150\",\"type\":\"GlyphRenderer\"},{\"attributes\":{\"fill_color\":{\"field\":\"labels\",\"transform\":{\"id\":\"1143\"}},\"hatch_color\":{\"field\":\"labels\",\"transform\":{\"id\":\"1143\"}},\"height\":{\"value\":0.8},\"left\":{\"field\":\"bottom\"},\"right\":{\"field\":\"top\"},\"y\":{\"field\":\"index\"}},\"id\":\"1147\",\"type\":\"HBar\"},{\"attributes\":{},\"id\":\"1217\",\"type\":\"AllLabels\"},{\"attributes\":{\"fill_color\":{\"field\":\"labels\",\"transform\":{\"id\":\"1329\"}},\"hatch_color\":{\"field\":\"labels\",\"transform\":{\"id\":\"1329\"}},\"height\":{\"value\":0.8},\"left\":{\"field\":\"bottom\"},\"right\":{\"field\":\"top\"},\"y\":{\"field\":\"index\"}},\"id\":\"1333\",\"type\":\"HBar\"},{\"attributes\":{\"axis_label\":\"\",\"coordinates\":null,\"formatter\":{\"id\":\"1219\"},\"group\":null,\"major_label_policy\":{\"id\":\"1220\"},\"ticker\":{\"id\":\"1227\"}},\"id\":\"1185\",\"type\":\"LinearAxis\"},{\"attributes\":{\"coordinates\":null,\"group\":null,\"text\":\"Duplicate Columns\",\"text_color\":\"black\",\"text_font_size\":\"12pt\"},\"id\":\"1301\",\"type\":\"Title\"},{\"attributes\":{\"axis\":{\"id\":\"1309\"},\"coordinates\":null,\"grid_line_color\":null,\"group\":null,\"ticker\":null},\"id\":\"1312\",\"type\":\"Grid\"},{\"attributes\":{\"label\":{\"field\":\"labels\"},\"renderers\":[{\"id\":\"1150\"}]},\"id\":\"1163\",\"type\":\"LegendItem\"},{\"attributes\":{\"label\":{\"field\":\"labels\"},\"renderers\":[{\"id\":\"1336\"}]},\"id\":\"1349\",\"type\":\"LegendItem\"},{\"attributes\":{},\"id\":\"1220\",\"type\":\"AllLabels\"},{\"attributes\":{},\"id\":\"1207\",\"type\":\"Selection\"},{\"attributes\":{\"bottom_units\":\"screen\",\"coordinates\":null,\"fill_alpha\":0.5,\"fill_color\":\"lightgrey\",\"group\":null,\"left_units\":\"screen\",\"level\":\"overlay\",\"line_alpha\":1.0,\"line_color\":\"black\",\"line_dash\":[4,4],\"line_width\":2,\"right_units\":\"screen\",\"syncable\":false,\"top_units\":\"screen\"},\"id\":\"1197\",\"type\":\"BoxAnnotation\"},{\"attributes\":{},\"id\":\"1154\",\"type\":\"CategoricalTickFormatter\"},{\"attributes\":{\"data\":{\"bottom\":{\"__ndarray__\":\"AAAAAAAAAAAAAAAAAABZQA==\",\"dtype\":\"float64\",\"order\":\"little\",\"shape\":[2]},\"index\":[\"values\",\"values\"],\"labels\":[\"Unique\",\"Duplicate\"],\"top\":{\"__ndarray__\":\"AAAAAAAAWUAAAAAAAABZQA==\",\"dtype\":\"float64\",\"order\":\"little\",\"shape\":[2]},\"value\":{\"__ndarray__\":\"AAAAAAAAWUAAAAAAAAAAAA==\",\"dtype\":\"float64\",\"order\":\"little\",\"shape\":[2]}},\"selected\":{\"id\":\"1269\"},\"selection_policy\":{\"id\":\"1283\"}},\"id\":\"1268\",\"type\":\"ColumnDataSource\"},{\"attributes\":{\"fill_alpha\":{\"value\":1.0},\"fill_color\":{\"field\":\"labels\",\"transform\":{\"id\":\"1329\"}},\"hatch_alpha\":{\"value\":1.0},\"hatch_color\":{\"field\":\"labels\",\"transform\":{\"id\":\"1329\"}},\"hatch_scale\":{\"value\":12.0},\"hatch_weight\":{\"value\":1.0},\"height\":{\"value\":0.8},\"left\":{\"field\":\"bottom\"},\"line_alpha\":{\"value\":1.0},\"line_cap\":{\"value\":\"butt\"},\"line_color\":{\"value\":\"black\"},\"line_dash\":{\"value\":[]},\"line_dash_offset\":{\"value\":0},\"line_join\":{\"value\":\"bevel\"},\"line_width\":{\"value\":1},\"right\":{\"field\":\"top\"},\"y\":{\"field\":\"index\"}},\"id\":\"1350\",\"type\":\"HBar\"},{\"attributes\":{\"factors\":[\"Numeric\",\"Others\"],\"palette\":[\"#30a2da\",\"#fc4f30\"]},\"id\":\"1143\",\"type\":\"CategoricalColorMapper\"},{\"attributes\":{},\"id\":\"1221\",\"type\":\"UnionRenderers\"},{\"attributes\":{\"tools\":[{\"id\":\"1175\"},{\"id\":\"1192\"},{\"id\":\"1193\"},{\"id\":\"1194\"},{\"id\":\"1195\"},{\"id\":\"1196\"}]},\"id\":\"1198\",\"type\":\"Toolbar\"},{\"attributes\":{\"ticks\":[0]},\"id\":\"1351\",\"type\":\"FixedTicker\"},{\"attributes\":{\"fill_alpha\":{\"value\":0.2},\"fill_color\":{\"field\":\"labels\",\"transform\":{\"id\":\"1205\"}},\"hatch_alpha\":{\"value\":0.2},\"hatch_color\":{\"field\":\"labels\",\"transform\":{\"id\":\"1205\"}},\"height\":{\"value\":0.8},\"left\":{\"field\":\"bottom\"},\"line_alpha\":{\"value\":0.2},\"right\":{\"field\":\"top\"},\"y\":{\"field\":\"index\"}},\"id\":\"1211\",\"type\":\"HBar\"},{\"attributes\":{},\"id\":\"1157\",\"type\":\"BasicTickFormatter\"},{\"attributes\":{\"fill_color\":{\"field\":\"labels\",\"transform\":{\"id\":\"1205\"}},\"hatch_color\":{\"field\":\"labels\",\"transform\":{\"id\":\"1205\"}},\"height\":{\"value\":0.8},\"left\":{\"field\":\"bottom\"},\"right\":{\"field\":\"top\"},\"y\":{\"field\":\"index\"}},\"id\":\"1209\",\"type\":\"HBar\"},{\"attributes\":{},\"id\":\"1155\",\"type\":\"AllLabels\"},{\"attributes\":{},\"id\":\"1158\",\"type\":\"AllLabels\"},{\"attributes\":{\"coordinates\":null,\"group\":null,\"items\":[{\"id\":\"1225\"}],\"location\":[0,0]},\"id\":\"1224\",\"type\":\"Legend\"},{\"attributes\":{\"callback\":null,\"renderers\":[{\"id\":\"1150\"}],\"tags\":[\"hv_created\"],\"tooltips\":[[\"index\",\"@{index}\"],[\"labels\",\"@{labels}\"],[\"value\",\"@{value}\"]]},\"id\":\"1113\",\"type\":\"HoverTool\"},{\"attributes\":{\"coordinates\":null,\"data_source\":{\"id\":\"1206\"},\"glyph\":{\"id\":\"1209\"},\"group\":null,\"hover_glyph\":null,\"muted_glyph\":{\"id\":\"1211\"},\"nonselection_glyph\":{\"id\":\"1210\"},\"selection_glyph\":{\"id\":\"1226\"},\"view\":{\"id\":\"1213\"}},\"id\":\"1212\",\"type\":\"GlyphRenderer\"},{\"attributes\":{\"children\":[{\"id\":\"1404\"},{\"id\":\"1403\"}]},\"id\":\"1405\",\"type\":\"Column\"},{\"attributes\":{},\"id\":\"1159\",\"type\":\"UnionRenderers\"},{\"attributes\":{\"source\":{\"id\":\"1206\"}},\"id\":\"1213\",\"type\":\"CDSView\"},{\"attributes\":{\"fill_alpha\":{\"value\":0.1},\"fill_color\":{\"field\":\"labels\",\"transform\":{\"id\":\"1205\"}},\"hatch_alpha\":{\"value\":0.1},\"hatch_color\":{\"field\":\"labels\",\"transform\":{\"id\":\"1205\"}},\"height\":{\"value\":0.8},\"left\":{\"field\":\"bottom\"},\"line_alpha\":{\"value\":0.1},\"right\":{\"field\":\"top\"},\"y\":{\"field\":\"index\"}},\"id\":\"1210\",\"type\":\"HBar\"},{\"attributes\":{\"data\":{\"bottom\":{\"__ndarray__\":\"AAAAAAAAAAAAAAAAAIBWQA==\",\"dtype\":\"float64\",\"order\":\"little\",\"shape\":[2]},\"index\":[\"values\",\"values\"],\"labels\":[\"Numeric\",\"Others\"],\"top\":{\"__ndarray__\":\"AAAAAACAVkAAAAAAAABZQA==\",\"dtype\":\"float64\",\"order\":\"little\",\"shape\":[2]},\"value\":{\"__ndarray__\":\"AAAAAACAVkAAAAAAAAAkQA==\",\"dtype\":\"float64\",\"order\":\"little\",\"shape\":[2]}},\"selected\":{\"id\":\"1145\"},\"selection_policy\":{\"id\":\"1159\"}},\"id\":\"1144\",\"type\":\"ColumnDataSource\"},{\"attributes\":{\"children\":[{\"id\":\"1402\"},{\"id\":\"1400\"}]},\"id\":\"1403\",\"type\":\"Column\"},{\"attributes\":{\"below\":[{\"id\":\"1123\"}],\"center\":[{\"id\":\"1126\"},{\"id\":\"1129\"},{\"id\":\"1162\"}],\"height\":100,\"left\":[{\"id\":\"1127\"}],\"margin\":null,\"min_border_bottom\":10,\"min_border_left\":10,\"min_border_right\":10,\"min_border_top\":10,\"renderers\":[{\"id\":\"1150\"}],\"right\":[{\"id\":\"1162\"}],\"sizing_mode\":\"fixed\",\"title\":{\"id\":\"1115\"},\"toolbar\":{\"id\":\"1136\"},\"toolbar_location\":null,\"width\":700,\"x_range\":{\"id\":\"1111\"},\"x_scale\":{\"id\":\"1119\"},\"y_range\":{\"id\":\"1112\"},\"y_scale\":{\"id\":\"1121\"}},\"id\":\"1114\",\"subtype\":\"Figure\",\"type\":\"Plot\"},{\"attributes\":{\"label\":{\"field\":\"labels\"},\"renderers\":[{\"id\":\"1212\"}]},\"id\":\"1225\",\"type\":\"LegendItem\"},{\"attributes\":{},\"id\":\"1119\",\"type\":\"LinearScale\"},{\"attributes\":{\"toolbar\":{\"id\":\"1401\"},\"toolbar_location\":\"above\"},\"id\":\"1402\",\"type\":\"ToolbarBox\"},{\"attributes\":{\"ticks\":[0]},\"id\":\"1227\",\"type\":\"FixedTicker\"},{\"attributes\":{\"factors\":[\"values\"],\"tags\":[[[\"index\",\"index\",null]]]},\"id\":\"1112\",\"type\":\"FactorRange\"},{\"attributes\":{\"fill_alpha\":{\"value\":1.0},\"fill_color\":{\"field\":\"labels\",\"transform\":{\"id\":\"1205\"}},\"hatch_alpha\":{\"value\":1.0},\"hatch_color\":{\"field\":\"labels\",\"transform\":{\"id\":\"1205\"}},\"hatch_scale\":{\"value\":12.0},\"hatch_weight\":{\"value\":1.0},\"height\":{\"value\":0.8},\"left\":{\"field\":\"bottom\"},\"line_alpha\":{\"value\":1.0},\"line_cap\":{\"value\":\"butt\"},\"line_color\":{\"value\":\"black\"},\"line_dash\":{\"value\":[]},\"line_dash_offset\":{\"value\":0},\"line_join\":{\"value\":\"bevel\"},\"line_width\":{\"value\":1},\"right\":{\"field\":\"top\"},\"y\":{\"field\":\"index\"}},\"id\":\"1226\",\"type\":\"HBar\"},{\"attributes\":{\"end\":100.0,\"reset_end\":100.0,\"reset_start\":0.0,\"tags\":[[[\"value\",\"value\",null]]]},\"id\":\"1111\",\"type\":\"Range1d\"},{\"attributes\":{\"style\":{\"white-space\":\"nowrap\"},\"text\":\"<span style=\\\"color:black;font-family:Arial;font-style:bold;font-weight:bold;font-size:12pt\\\">Data Shape:(20640, 10)</span>\",\"width\":450},\"id\":\"1404\",\"type\":\"Div\"}],\"root_ids\":[\"1110\",\"1803\"]},\"title\":\"Bokeh Application\",\"version\":\"2.4.3\"}};\n",
       "    var render_items = [{\"docid\":\"d267c303-0373-4f1a-b946-990133d59f21\",\"root_ids\":[\"1110\"],\"roots\":{\"1110\":\"450e3e4c-720a-4c1b-8141-4074631921c7\"}}];\n",
       "    root.Bokeh.embed.embed_items_notebook(docs_json, render_items);\n",
       "  }\n",
       "  if (root.Bokeh !== undefined && root.Bokeh.Panel !== undefined) {\n",
       "    embed_document(root);\n",
       "  } else {\n",
       "    var attempts = 0;\n",
       "    var timer = setInterval(function(root) {\n",
       "      if (root.Bokeh !== undefined && root.Bokeh.Panel !== undefined) {\n",
       "        clearInterval(timer);\n",
       "        embed_document(root);\n",
       "      } else if (document.readyState == \"complete\") {\n",
       "        attempts++;\n",
       "        if (attempts > 200) {\n",
       "          clearInterval(timer);\n",
       "          console.log(\"Bokeh: ERROR: Unable to run BokehJS code because BokehJS library is missing\");\n",
       "        }\n",
       "      }\n",
       "    }, 25, root)\n",
       "  }\n",
       "})(window);</script>"
      ],
      "text/plain": [
       "Tabs\n",
       "    [0] HoloViews(Layout, name='housing')"
      ]
     },
     "execution_count": 51,
     "metadata": {
      "application/vnd.holoviews_exec.v0+json": {
       "id": "1110"
      }
     },
     "output_type": "execute_result"
    }
   ],
   "source": [
    "sum1, plot1 = eda.get_data_health_summary(housing_df, return_plot=True)\n",
    "# sum2, plot2 = eda.get_data_health_summary(prod_df, return_plot=True)\n",
    "\n",
    "display_as_tabs([('housing', plot1)])"
   ]
  },
  {
   "cell_type": "markdown",
   "metadata": {},
   "source": [
    "**Dev NOTES**\n",
    "\n",
    "<details>\n",
    "1. Datatypes : We have both numeric and other types. The bulk of them seem to be numeric. `Numeric` is defined to be one of [float|int|date] and the rest are categorized as `Others`. A column is assumed to have `date` values if it has the string `date` in the column name.\n",
    "\n",
    "2. The missing value plot seems to indicate missing values are not present but we do have them. \n",
    "\n",
    "3. We are looking for duplicate observations (rows in the data). The plot shows the % of rows that are an exact replica of another row (using `df.duplicated`)\n",
    "\n",
    "4. We are looking for duplicate features (columns in the data).\n",
    "\n",
    "</details>"
   ]
  },
  {
   "cell_type": "markdown",
   "metadata": {},
   "source": [
    "### Missing Values summary\n",
    "\n",
    "This provides an overall view focussing on amount of missing values in the dataset.\n",
    "\n",
    "**Watch out for:**\n",
    "* A few columns have significant number of missing values \n",
    "* Most columns have significant number of missing values\n"
   ]
  },
  {
   "cell_type": "code",
   "execution_count": 23,
   "metadata": {},
   "outputs": [
    {
     "name": "stderr",
     "output_type": "stream",
     "text": [
      "tzname GB identified but not understood.  Pass `tzinfos` argument in order to correctly return a timezone-aware datetime.  In a future version, this will raise an exception.\n",
      "\n"
     ]
    },
    {
     "data": {},
     "metadata": {},
     "output_type": "display_data"
    },
    {
     "data": {},
     "metadata": {},
     "output_type": "display_data"
    },
    {
     "data": {
      "application/vnd.holoviews_exec.v0+json": "",
      "text/html": [
       "<div id='2855'>\n",
       "  <div class=\"bk-root\" id=\"b3d6c48b-fe1f-4f4f-80b3-eeda7e270dd2\" data-root-id=\"2855\"></div>\n",
       "</div>\n",
       "<script type=\"application/javascript\">(function(root) {\n",
       "  function embed_document(root) {\n",
       "    var docs_json = {\"4ad0fba1-58b9-4b12-910a-994e9c4cc928\":{\"defs\":[{\"extends\":null,\"module\":null,\"name\":\"ReactiveHTML1\",\"overrides\":[],\"properties\":[]},{\"extends\":null,\"module\":null,\"name\":\"FlexBox1\",\"overrides\":[],\"properties\":[{\"default\":\"flex-start\",\"kind\":null,\"name\":\"align_content\"},{\"default\":\"flex-start\",\"kind\":null,\"name\":\"align_items\"},{\"default\":\"row\",\"kind\":null,\"name\":\"flex_direction\"},{\"default\":\"wrap\",\"kind\":null,\"name\":\"flex_wrap\"},{\"default\":\"flex-start\",\"kind\":null,\"name\":\"justify_content\"}]},{\"extends\":null,\"module\":null,\"name\":\"GridStack1\",\"overrides\":[],\"properties\":[{\"default\":\"warn\",\"kind\":null,\"name\":\"mode\"},{\"default\":null,\"kind\":null,\"name\":\"ncols\"},{\"default\":null,\"kind\":null,\"name\":\"nrows\"},{\"default\":true,\"kind\":null,\"name\":\"allow_resize\"},{\"default\":true,\"kind\":null,\"name\":\"allow_drag\"},{\"default\":[],\"kind\":null,\"name\":\"state\"}]},{\"extends\":null,\"module\":null,\"name\":\"click1\",\"overrides\":[],\"properties\":[{\"default\":\"\",\"kind\":null,\"name\":\"terminal_output\"},{\"default\":\"\",\"kind\":null,\"name\":\"debug_name\"},{\"default\":0,\"kind\":null,\"name\":\"clears\"}]},{\"extends\":null,\"module\":null,\"name\":\"NotificationAreaBase1\",\"overrides\":[],\"properties\":[{\"default\":\"bottom-right\",\"kind\":null,\"name\":\"position\"},{\"default\":0,\"kind\":null,\"name\":\"_clear\"}]},{\"extends\":null,\"module\":null,\"name\":\"NotificationArea1\",\"overrides\":[],\"properties\":[{\"default\":[],\"kind\":null,\"name\":\"notifications\"},{\"default\":\"bottom-right\",\"kind\":null,\"name\":\"position\"},{\"default\":0,\"kind\":null,\"name\":\"_clear\"},{\"default\":[{\"background\":\"#ffc107\",\"icon\":{\"className\":\"fas fa-exclamation-triangle\",\"color\":\"white\",\"tagName\":\"i\"},\"type\":\"warning\"},{\"background\":\"#007bff\",\"icon\":{\"className\":\"fas fa-info-circle\",\"color\":\"white\",\"tagName\":\"i\"},\"type\":\"info\"}],\"kind\":null,\"name\":\"types\"}]},{\"extends\":null,\"module\":null,\"name\":\"Notification\",\"overrides\":[],\"properties\":[{\"default\":null,\"kind\":null,\"name\":\"background\"},{\"default\":3000,\"kind\":null,\"name\":\"duration\"},{\"default\":null,\"kind\":null,\"name\":\"icon\"},{\"default\":\"\",\"kind\":null,\"name\":\"message\"},{\"default\":null,\"kind\":null,\"name\":\"notification_type\"},{\"default\":false,\"kind\":null,\"name\":\"_destroyed\"}]},{\"extends\":null,\"module\":null,\"name\":\"TemplateActions1\",\"overrides\":[],\"properties\":[{\"default\":0,\"kind\":null,\"name\":\"open_modal\"},{\"default\":0,\"kind\":null,\"name\":\"close_modal\"}]},{\"extends\":null,\"module\":null,\"name\":\"MaterialTemplateActions1\",\"overrides\":[],\"properties\":[{\"default\":0,\"kind\":null,\"name\":\"open_modal\"},{\"default\":0,\"kind\":null,\"name\":\"close_modal\"}]}],\"roots\":{\"references\":[{\"attributes\":{\"axis_label\":\"# of missing observations\",\"coordinates\":null,\"formatter\":{\"id\":\"2898\"},\"group\":null,\"major_label_policy\":{\"id\":\"2899\"},\"ticker\":{\"id\":\"2869\"}},\"id\":\"2868\",\"type\":\"CategoricalAxis\"},{\"attributes\":{\"fill_alpha\":{\"value\":0.1},\"fill_color\":{\"value\":\"#30a2da\"},\"hatch_alpha\":{\"value\":0.1},\"hatch_color\":{\"value\":\"#30a2da\"},\"line_alpha\":{\"value\":0.1},\"top\":{\"field\":\"A_0\"},\"width\":{\"value\":0.8},\"x\":{\"field\":\"index\"}},\"id\":\"2950\",\"type\":\"VBar\"},{\"attributes\":{\"axis\":{\"id\":\"2868\"},\"coordinates\":null,\"grid_line_color\":null,\"group\":null,\"ticker\":null},\"id\":\"2870\",\"type\":\"Grid\"},{\"attributes\":{},\"id\":\"2864\",\"type\":\"CategoricalScale\"},{\"attributes\":{\"fill_alpha\":{\"value\":0.2},\"fill_color\":{\"value\":\"#30a2da\"},\"hatch_alpha\":{\"value\":0.2},\"hatch_color\":{\"value\":\"#30a2da\"},\"line_alpha\":{\"value\":0.2},\"top\":{\"field\":\"A_0\"},\"width\":{\"value\":0.8},\"x\":{\"field\":\"index\"}},\"id\":\"2951\",\"type\":\"VBar\"},{\"attributes\":{},\"id\":\"2899\",\"type\":\"AllLabels\"},{\"attributes\":{},\"id\":\"2866\",\"type\":\"LinearScale\"},{\"attributes\":{\"coordinates\":null,\"data_source\":{\"id\":\"2888\"},\"glyph\":{\"id\":\"2891\"},\"group\":null,\"hover_glyph\":null,\"muted_glyph\":{\"id\":\"2893\"},\"nonselection_glyph\":{\"id\":\"2892\"},\"selection_glyph\":{\"id\":\"2896\"},\"view\":{\"id\":\"2895\"}},\"id\":\"2894\",\"type\":\"GlyphRenderer\"},{\"attributes\":{\"source\":{\"id\":\"2888\"}},\"id\":\"2895\",\"type\":\"CDSView\"},{\"attributes\":{},\"id\":\"2956\",\"type\":\"CategoricalTickFormatter\"},{\"attributes\":{\"fill_alpha\":{\"value\":0.2},\"fill_color\":{\"value\":\"#30a2da\"},\"hatch_alpha\":{\"value\":0.2},\"hatch_color\":{\"value\":\"#30a2da\"},\"line_alpha\":{\"value\":0.2},\"top\":{\"field\":\"A_0\"},\"width\":{\"value\":0.8},\"x\":{\"field\":\"index\"}},\"id\":\"2893\",\"type\":\"VBar\"},{\"attributes\":{},\"id\":\"2902\",\"type\":\"AllLabels\"},{\"attributes\":{},\"id\":\"2927\",\"type\":\"CategoricalTicker\"},{\"attributes\":{\"axis_label\":\"# of variables\",\"coordinates\":null,\"formatter\":{\"id\":\"2901\"},\"group\":null,\"major_label_policy\":{\"id\":\"2902\"},\"ticker\":{\"id\":\"2872\"}},\"id\":\"2871\",\"type\":\"LinearAxis\"},{\"attributes\":{},\"id\":\"2872\",\"type\":\"BasicTicker\"},{\"attributes\":{\"axis\":{\"id\":\"2871\"},\"coordinates\":null,\"dimension\":1,\"grid_line_color\":null,\"group\":null,\"ticker\":null},\"id\":\"2874\",\"type\":\"Grid\"},{\"attributes\":{\"below\":[{\"id\":\"2926\"}],\"center\":[{\"id\":\"2928\"},{\"id\":\"2932\"}],\"height\":300,\"left\":[{\"id\":\"2929\"}],\"margin\":[5,5,5,5],\"min_border_bottom\":10,\"min_border_left\":10,\"min_border_right\":10,\"min_border_top\":10,\"renderers\":[{\"id\":\"2952\"}],\"sizing_mode\":\"fixed\",\"title\":{\"id\":\"2918\"},\"toolbar\":{\"id\":\"2939\"},\"width\":700,\"x_range\":{\"id\":\"2856\"},\"x_scale\":{\"id\":\"2922\"},\"y_range\":{\"id\":\"2857\"},\"y_scale\":{\"id\":\"2924\"}},\"id\":\"2917\",\"subtype\":\"Figure\",\"type\":\"Plot\"},{\"attributes\":{},\"id\":\"2959\",\"type\":\"BasicTickFormatter\"},{\"attributes\":{},\"id\":\"2947\",\"type\":\"Selection\"},{\"attributes\":{},\"id\":\"2930\",\"type\":\"BasicTicker\"},{\"attributes\":{\"fill_alpha\":{\"value\":0.1},\"fill_color\":{\"value\":\"#30a2da\"},\"hatch_alpha\":{\"value\":0.1},\"hatch_color\":{\"value\":\"#30a2da\"},\"line_alpha\":{\"value\":0.1},\"top\":{\"field\":\"A_0\"},\"width\":{\"value\":0.8},\"x\":{\"field\":\"index\"}},\"id\":\"2892\",\"type\":\"VBar\"},{\"attributes\":{\"fill_color\":{\"value\":\"#30a2da\"},\"hatch_color\":{\"value\":\"#30a2da\"},\"top\":{\"field\":\"A_0\"},\"width\":{\"value\":0.8},\"x\":{\"field\":\"index\"}},\"id\":\"2891\",\"type\":\"VBar\"},{\"attributes\":{},\"id\":\"2968\",\"type\":\"UnionRenderers\"},{\"attributes\":{\"source\":{\"id\":\"2946\"}},\"id\":\"2953\",\"type\":\"CDSView\"},{\"attributes\":{},\"id\":\"2869\",\"type\":\"CategoricalTicker\"},{\"attributes\":{},\"id\":\"2960\",\"type\":\"AllLabels\"},{\"attributes\":{},\"id\":\"2877\",\"type\":\"WheelZoomTool\"},{\"attributes\":{\"bottom_units\":\"screen\",\"coordinates\":null,\"fill_alpha\":0.5,\"fill_color\":\"lightgrey\",\"group\":null,\"left_units\":\"screen\",\"level\":\"overlay\",\"line_alpha\":1.0,\"line_color\":\"black\",\"line_dash\":[4,4],\"line_width\":2,\"right_units\":\"screen\",\"syncable\":false,\"top_units\":\"screen\"},\"id\":\"2880\",\"type\":\"BoxAnnotation\"},{\"attributes\":{\"factors\":[\"No Missing\",\"0-5%\",\"5-10%\",\"10-20%\",\"20-30%\",\"30-40%\",\"40-50%\",\"50-100%\"],\"tags\":[[[\"index\",\"index\",null]]]},\"id\":\"2856\",\"type\":\"FactorRange\"},{\"attributes\":{},\"id\":\"2922\",\"type\":\"CategoricalScale\"},{\"attributes\":{},\"id\":\"2910\",\"type\":\"UnionRenderers\"},{\"attributes\":{\"fill_color\":{\"value\":\"#30a2da\"},\"hatch_color\":{\"value\":\"#30a2da\"},\"top\":{\"field\":\"A_0\"},\"width\":{\"value\":0.8},\"x\":{\"field\":\"index\"}},\"id\":\"2949\",\"type\":\"VBar\"},{\"attributes\":{\"end\":25.3,\"reset_end\":25.3,\"reset_start\":0.0,\"tags\":[[[\"0\",\"0\",null]]]},\"id\":\"2857\",\"type\":\"Range1d\"},{\"attributes\":{},\"id\":\"2889\",\"type\":\"Selection\"},{\"attributes\":{\"client_comm_id\":\"932974e185694b24a1b3e55dcf9b6d6d\",\"comm_id\":\"74c744f790ba459c9656b9902aff126e\",\"plot_id\":\"2855\"},\"id\":\"3032\",\"type\":\"panel.models.comm_manager.CommManager\"},{\"attributes\":{\"coordinates\":null,\"data_source\":{\"id\":\"2946\"},\"glyph\":{\"id\":\"2949\"},\"group\":null,\"hover_glyph\":null,\"muted_glyph\":{\"id\":\"2951\"},\"nonselection_glyph\":{\"id\":\"2950\"},\"selection_glyph\":{\"id\":\"2954\"},\"view\":{\"id\":\"2953\"}},\"id\":\"2952\",\"type\":\"GlyphRenderer\"},{\"attributes\":{\"tools\":[{\"id\":\"2916\"},{\"id\":\"2933\"},{\"id\":\"2934\"},{\"id\":\"2935\"},{\"id\":\"2936\"},{\"id\":\"2937\"}]},\"id\":\"2939\",\"type\":\"Toolbar\"},{\"attributes\":{},\"id\":\"2879\",\"type\":\"ResetTool\"},{\"attributes\":{\"bottom\":{\"value\":0},\"fill_alpha\":{\"value\":1.0},\"fill_color\":{\"value\":\"#30a2da\"},\"hatch_alpha\":{\"value\":1.0},\"hatch_color\":{\"value\":\"#30a2da\"},\"hatch_scale\":{\"value\":12.0},\"hatch_weight\":{\"value\":1.0},\"line_alpha\":{\"value\":1.0},\"line_cap\":{\"value\":\"butt\"},\"line_color\":{\"value\":\"black\"},\"line_dash\":{\"value\":[]},\"line_dash_offset\":{\"value\":0},\"line_join\":{\"value\":\"bevel\"},\"line_width\":{\"value\":1},\"top\":{\"field\":\"A_0\"},\"width\":{\"value\":0.8},\"x\":{\"field\":\"index\"}},\"id\":\"2896\",\"type\":\"VBar\"},{\"attributes\":{},\"id\":\"2937\",\"type\":\"ResetTool\"},{\"attributes\":{\"bottom_units\":\"screen\",\"coordinates\":null,\"fill_alpha\":0.5,\"fill_color\":\"lightgrey\",\"group\":null,\"left_units\":\"screen\",\"level\":\"overlay\",\"line_alpha\":1.0,\"line_color\":\"black\",\"line_dash\":[4,4],\"line_width\":2,\"right_units\":\"screen\",\"syncable\":false,\"top_units\":\"screen\"},\"id\":\"2938\",\"type\":\"BoxAnnotation\"},{\"attributes\":{\"callback\":null,\"renderers\":[{\"id\":\"2894\"}],\"tags\":[\"hv_created\"],\"tooltips\":[[\"index\",\"@{index}\"],[\"0\",\"@{A_0}\"]]},\"id\":\"2858\",\"type\":\"HoverTool\"},{\"attributes\":{\"bottom\":{\"value\":0},\"fill_alpha\":{\"value\":1.0},\"fill_color\":{\"value\":\"#30a2da\"},\"hatch_alpha\":{\"value\":1.0},\"hatch_color\":{\"value\":\"#30a2da\"},\"hatch_scale\":{\"value\":12.0},\"hatch_weight\":{\"value\":1.0},\"line_alpha\":{\"value\":1.0},\"line_cap\":{\"value\":\"butt\"},\"line_color\":{\"value\":\"black\"},\"line_dash\":{\"value\":[]},\"line_dash_offset\":{\"value\":0},\"line_join\":{\"value\":\"bevel\"},\"line_width\":{\"value\":1},\"top\":{\"field\":\"A_0\"},\"width\":{\"value\":0.8},\"x\":{\"field\":\"index\"}},\"id\":\"2954\",\"type\":\"VBar\"},{\"attributes\":{},\"id\":\"2933\",\"type\":\"SaveTool\"},{\"attributes\":{\"coordinates\":null,\"group\":null,\"text\":\"Missing Variables - Data Shape:(13544, 9)\",\"text_color\":\"black\",\"text_font_size\":\"12pt\"},\"id\":\"2918\",\"type\":\"Title\"},{\"attributes\":{\"overlay\":{\"id\":\"2880\"}},\"id\":\"2878\",\"type\":\"BoxZoomTool\"},{\"attributes\":{\"child\":{\"id\":\"2917\"},\"name\":\"product\",\"title\":\"product\"},\"id\":\"2971\",\"type\":\"Panel\"},{\"attributes\":{\"axis_label\":\"# of missing observations\",\"coordinates\":null,\"formatter\":{\"id\":\"2956\"},\"group\":null,\"major_label_policy\":{\"id\":\"2957\"},\"ticker\":{\"id\":\"2927\"}},\"id\":\"2926\",\"type\":\"CategoricalAxis\"},{\"attributes\":{},\"id\":\"2934\",\"type\":\"PanTool\"},{\"attributes\":{},\"id\":\"2924\",\"type\":\"LinearScale\"},{\"attributes\":{},\"id\":\"2901\",\"type\":\"BasicTickFormatter\"},{\"attributes\":{\"tools\":[{\"id\":\"2858\"},{\"id\":\"2875\"},{\"id\":\"2876\"},{\"id\":\"2877\"},{\"id\":\"2878\"},{\"id\":\"2879\"}]},\"id\":\"2881\",\"type\":\"Toolbar\"},{\"attributes\":{\"data\":{\"A_0\":[5,4,0,0,0,0,0,0],\"index\":[\"No Missing\",\"0-5%\",\"5-10%\",\"10-20%\",\"20-30%\",\"30-40%\",\"40-50%\",\"50-100%\"]},\"selected\":{\"id\":\"2947\"},\"selection_policy\":{\"id\":\"2968\"}},\"id\":\"2946\",\"type\":\"ColumnDataSource\"},{\"attributes\":{},\"id\":\"2875\",\"type\":\"SaveTool\"},{\"attributes\":{\"axis_label\":\"# of variables\",\"coordinates\":null,\"formatter\":{\"id\":\"2959\"},\"group\":null,\"major_label_policy\":{\"id\":\"2960\"},\"ticker\":{\"id\":\"2930\"}},\"id\":\"2929\",\"type\":\"LinearAxis\"},{\"attributes\":{},\"id\":\"2957\",\"type\":\"AllLabels\"},{\"attributes\":{\"axis\":{\"id\":\"2929\"},\"coordinates\":null,\"dimension\":1,\"grid_line_color\":null,\"group\":null,\"ticker\":null},\"id\":\"2932\",\"type\":\"Grid\"},{\"attributes\":{},\"id\":\"2935\",\"type\":\"WheelZoomTool\"},{\"attributes\":{\"data\":{\"A_0\":[23,2,0,0,0,0,0,0],\"index\":[\"No Missing\",\"0-5%\",\"5-10%\",\"10-20%\",\"20-30%\",\"30-40%\",\"40-50%\",\"50-100%\"]},\"selected\":{\"id\":\"2889\"},\"selection_policy\":{\"id\":\"2910\"}},\"id\":\"2888\",\"type\":\"ColumnDataSource\"},{\"attributes\":{\"callback\":null,\"renderers\":[{\"id\":\"2952\"}],\"tags\":[\"hv_created\"],\"tooltips\":[[\"index\",\"@{index}\"],[\"0\",\"@{A_0}\"]]},\"id\":\"2916\",\"type\":\"HoverTool\"},{\"attributes\":{\"axis\":{\"id\":\"2926\"},\"coordinates\":null,\"grid_line_color\":null,\"group\":null,\"ticker\":null},\"id\":\"2928\",\"type\":\"Grid\"},{\"attributes\":{\"child\":{\"id\":\"2859\"},\"name\":\"orders\",\"title\":\"orders\"},\"id\":\"2913\",\"type\":\"Panel\"},{\"attributes\":{},\"id\":\"2876\",\"type\":\"PanTool\"},{\"attributes\":{\"margin\":[0,0,0,0],\"tabs\":[{\"id\":\"2913\"},{\"id\":\"2971\"}]},\"id\":\"2855\",\"type\":\"panel.models.tabs.Tabs\"},{\"attributes\":{\"below\":[{\"id\":\"2868\"}],\"center\":[{\"id\":\"2870\"},{\"id\":\"2874\"}],\"height\":300,\"left\":[{\"id\":\"2871\"}],\"margin\":[5,5,5,5],\"min_border_bottom\":10,\"min_border_left\":10,\"min_border_right\":10,\"min_border_top\":10,\"renderers\":[{\"id\":\"2894\"}],\"sizing_mode\":\"fixed\",\"title\":{\"id\":\"2860\"},\"toolbar\":{\"id\":\"2881\"},\"width\":700,\"x_range\":{\"id\":\"2856\"},\"x_scale\":{\"id\":\"2864\"},\"y_range\":{\"id\":\"2857\"},\"y_scale\":{\"id\":\"2866\"}},\"id\":\"2859\",\"subtype\":\"Figure\",\"type\":\"Plot\"},{\"attributes\":{\"coordinates\":null,\"group\":null,\"text\":\"Missing Variables - Data Shape:(174813, 25)\",\"text_color\":\"black\",\"text_font_size\":\"12pt\"},\"id\":\"2860\",\"type\":\"Title\"},{\"attributes\":{},\"id\":\"2898\",\"type\":\"CategoricalTickFormatter\"},{\"attributes\":{\"overlay\":{\"id\":\"2938\"}},\"id\":\"2936\",\"type\":\"BoxZoomTool\"}],\"root_ids\":[\"2855\",\"3032\"]},\"title\":\"Bokeh Application\",\"version\":\"2.4.3\"}};\n",
       "    var render_items = [{\"docid\":\"4ad0fba1-58b9-4b12-910a-994e9c4cc928\",\"root_ids\":[\"2855\"],\"roots\":{\"2855\":\"b3d6c48b-fe1f-4f4f-80b3-eeda7e270dd2\"}}];\n",
       "    root.Bokeh.embed.embed_items_notebook(docs_json, render_items);\n",
       "  }\n",
       "  if (root.Bokeh !== undefined && root.Bokeh.Panel !== undefined) {\n",
       "    embed_document(root);\n",
       "  } else {\n",
       "    var attempts = 0;\n",
       "    var timer = setInterval(function(root) {\n",
       "      if (root.Bokeh !== undefined && root.Bokeh.Panel !== undefined) {\n",
       "        clearInterval(timer);\n",
       "        embed_document(root);\n",
       "      } else if (document.readyState == \"complete\") {\n",
       "        attempts++;\n",
       "        if (attempts > 200) {\n",
       "          clearInterval(timer);\n",
       "          console.log(\"Bokeh: ERROR: Unable to run BokehJS code because BokehJS library is missing\");\n",
       "        }\n",
       "      }\n",
       "    }, 25, root)\n",
       "  }\n",
       "})(window);</script>"
      ],
      "text/plain": [
       "Tabs\n",
       "    [0] HoloViews(Bars, name='orders')\n",
       "    [1] HoloViews(Bars, name='product')"
      ]
     },
     "execution_count": 23,
     "metadata": {
      "application/vnd.holoviews_exec.v0+json": {
       "id": "2855"
      }
     },
     "output_type": "execute_result"
    }
   ],
   "source": [
    "sum1, plot1 = eda.get_missing_values_summary(orders_df, return_plot=True)\n",
    "sum2, plot2 = eda.get_missing_values_summary(prod_df, return_plot=True)\n",
    "\n",
    "display_as_tabs([('orders', plot1), ('product', plot2)])"
   ]
  },
  {
   "cell_type": "markdown",
   "metadata": {},
   "source": [
    "**Dev notes:**\n",
    "\n",
    "<details>\n",
    "    \n",
    "    * By default, the following are considered missing/NA values : `[np.Nan, pd.NaT, 'NA', None]`\n",
    "    * additional values can be passed to tigerml (add_additional_na_values)\n",
    "    * these are applied to all columns.\n",
    "    \n",
    "    * some of the above information can be learnt from the data discovery step (see discussion below)\n",
    "    \n",
    "</details>"
   ]
  },
  {
   "cell_type": "code",
   "execution_count": 24,
   "metadata": {},
   "outputs": [
    {
     "name": "stderr",
     "output_type": "stream",
     "text": [
      "tzname GB identified but not understood.  Pass `tzinfos` argument in order to correctly return a timezone-aware datetime.  In a future version, this will raise an exception.\n",
      "\n"
     ]
    },
    {
     "data": {},
     "metadata": {},
     "output_type": "display_data"
    },
    {
     "data": {
      "application/vnd.holoviews_exec.v0+json": "",
      "text/html": [
       "<div id='3133'>\n",
       "  <div class=\"bk-root\" id=\"b41f3fc6-6fce-444e-85f2-d2a16205d5f2\" data-root-id=\"3133\"></div>\n",
       "</div>\n",
       "<script type=\"application/javascript\">(function(root) {\n",
       "  function embed_document(root) {\n",
       "    var docs_json = {\"78567ab1-d119-44ee-a822-ec51c0acabd7\":{\"defs\":[{\"extends\":null,\"module\":null,\"name\":\"ReactiveHTML1\",\"overrides\":[],\"properties\":[]},{\"extends\":null,\"module\":null,\"name\":\"FlexBox1\",\"overrides\":[],\"properties\":[{\"default\":\"flex-start\",\"kind\":null,\"name\":\"align_content\"},{\"default\":\"flex-start\",\"kind\":null,\"name\":\"align_items\"},{\"default\":\"row\",\"kind\":null,\"name\":\"flex_direction\"},{\"default\":\"wrap\",\"kind\":null,\"name\":\"flex_wrap\"},{\"default\":\"flex-start\",\"kind\":null,\"name\":\"justify_content\"}]},{\"extends\":null,\"module\":null,\"name\":\"GridStack1\",\"overrides\":[],\"properties\":[{\"default\":\"warn\",\"kind\":null,\"name\":\"mode\"},{\"default\":null,\"kind\":null,\"name\":\"ncols\"},{\"default\":null,\"kind\":null,\"name\":\"nrows\"},{\"default\":true,\"kind\":null,\"name\":\"allow_resize\"},{\"default\":true,\"kind\":null,\"name\":\"allow_drag\"},{\"default\":[],\"kind\":null,\"name\":\"state\"}]},{\"extends\":null,\"module\":null,\"name\":\"click1\",\"overrides\":[],\"properties\":[{\"default\":\"\",\"kind\":null,\"name\":\"terminal_output\"},{\"default\":\"\",\"kind\":null,\"name\":\"debug_name\"},{\"default\":0,\"kind\":null,\"name\":\"clears\"}]},{\"extends\":null,\"module\":null,\"name\":\"NotificationAreaBase1\",\"overrides\":[],\"properties\":[{\"default\":\"bottom-right\",\"kind\":null,\"name\":\"position\"},{\"default\":0,\"kind\":null,\"name\":\"_clear\"}]},{\"extends\":null,\"module\":null,\"name\":\"NotificationArea1\",\"overrides\":[],\"properties\":[{\"default\":[],\"kind\":null,\"name\":\"notifications\"},{\"default\":\"bottom-right\",\"kind\":null,\"name\":\"position\"},{\"default\":0,\"kind\":null,\"name\":\"_clear\"},{\"default\":[{\"background\":\"#ffc107\",\"icon\":{\"className\":\"fas fa-exclamation-triangle\",\"color\":\"white\",\"tagName\":\"i\"},\"type\":\"warning\"},{\"background\":\"#007bff\",\"icon\":{\"className\":\"fas fa-info-circle\",\"color\":\"white\",\"tagName\":\"i\"},\"type\":\"info\"}],\"kind\":null,\"name\":\"types\"}]},{\"extends\":null,\"module\":null,\"name\":\"Notification\",\"overrides\":[],\"properties\":[{\"default\":null,\"kind\":null,\"name\":\"background\"},{\"default\":3000,\"kind\":null,\"name\":\"duration\"},{\"default\":null,\"kind\":null,\"name\":\"icon\"},{\"default\":\"\",\"kind\":null,\"name\":\"message\"},{\"default\":null,\"kind\":null,\"name\":\"notification_type\"},{\"default\":false,\"kind\":null,\"name\":\"_destroyed\"}]},{\"extends\":null,\"module\":null,\"name\":\"TemplateActions1\",\"overrides\":[],\"properties\":[{\"default\":0,\"kind\":null,\"name\":\"open_modal\"},{\"default\":0,\"kind\":null,\"name\":\"close_modal\"}]},{\"extends\":null,\"module\":null,\"name\":\"MaterialTemplateActions1\",\"overrides\":[],\"properties\":[{\"default\":0,\"kind\":null,\"name\":\"open_modal\"},{\"default\":0,\"kind\":null,\"name\":\"close_modal\"}]}],\"roots\":{\"references\":[{\"attributes\":{\"client_comm_id\":\"18ce8875314e4b708e9f60d34fc605bc\",\"comm_id\":\"17355dbc05174831bad86d1f4981853a\",\"plot_id\":\"3133\"},\"id\":\"3138\",\"type\":\"panel.models.comm_manager.CommManager\"},{\"attributes\":{\"css_classes\":[\"markdown\"],\"margin\":[5,5,5,5],\"name\":\"product\",\"text\":\"&lt;p&gt;No duplicate variables&lt;/p&gt;\"},\"id\":\"3136\",\"type\":\"panel.models.markup.HTML\"},{\"attributes\":{\"margin\":[0,0,0,0],\"tabs\":[{\"id\":\"3135\"},{\"id\":\"3137\"}]},\"id\":\"3133\",\"type\":\"panel.models.tabs.Tabs\"},{\"attributes\":{\"css_classes\":[\"markdown\"],\"margin\":[5,5,5,5],\"name\":\"orders\",\"text\":\"&lt;p&gt;No duplicate variables&lt;/p&gt;\"},\"id\":\"3134\",\"type\":\"panel.models.markup.HTML\"},{\"attributes\":{\"child\":{\"id\":\"3136\"},\"name\":\"product\",\"title\":\"product\"},\"id\":\"3137\",\"type\":\"Panel\"},{\"attributes\":{\"child\":{\"id\":\"3134\"},\"name\":\"orders\",\"title\":\"orders\"},\"id\":\"3135\",\"type\":\"Panel\"}],\"root_ids\":[\"3133\",\"3138\"]},\"title\":\"Bokeh Application\",\"version\":\"2.4.3\"}};\n",
       "    var render_items = [{\"docid\":\"78567ab1-d119-44ee-a822-ec51c0acabd7\",\"root_ids\":[\"3133\"],\"roots\":{\"3133\":\"b41f3fc6-6fce-444e-85f2-d2a16205d5f2\"}}];\n",
       "    root.Bokeh.embed.embed_items_notebook(docs_json, render_items);\n",
       "  }\n",
       "  if (root.Bokeh !== undefined && root.Bokeh.Panel !== undefined) {\n",
       "    embed_document(root);\n",
       "  } else {\n",
       "    var attempts = 0;\n",
       "    var timer = setInterval(function(root) {\n",
       "      if (root.Bokeh !== undefined && root.Bokeh.Panel !== undefined) {\n",
       "        clearInterval(timer);\n",
       "        embed_document(root);\n",
       "      } else if (document.readyState == \"complete\") {\n",
       "        attempts++;\n",
       "        if (attempts > 200) {\n",
       "          clearInterval(timer);\n",
       "          console.log(\"Bokeh: ERROR: Unable to run BokehJS code because BokehJS library is missing\");\n",
       "        }\n",
       "      }\n",
       "    }, 25, root)\n",
       "  }\n",
       "})(window);</script>"
      ],
      "text/plain": [
       "Tabs\n",
       "    [0] Markdown(str, name='orders')\n",
       "    [1] Markdown(str, name='product')"
      ]
     },
     "execution_count": 24,
     "metadata": {
      "application/vnd.holoviews_exec.v0+json": {
       "id": "3133"
      }
     },
     "output_type": "execute_result"
    }
   ],
   "source": [
    "sum1 = eda.get_duplicate_columns(orders_df)\n",
    "sum2 = eda.get_duplicate_columns(prod_df)\n",
    "\n",
    "display_as_tabs([('orders', sum1), ('product', sum2)])"
   ]
  },
  {
   "cell_type": "code",
   "execution_count": 25,
   "metadata": {},
   "outputs": [
    {
     "name": "stderr",
     "output_type": "stream",
     "text": [
      "tzname GB identified but not understood.  Pass `tzinfos` argument in order to correctly return a timezone-aware datetime.  In a future version, this will raise an exception.\n",
      "\n"
     ]
    },
    {
     "data": {},
     "metadata": {},
     "output_type": "display_data"
    },
    {
     "data": {
      "application/vnd.holoviews_exec.v0+json": "",
      "text/html": [
       "<div id='3139'>\n",
       "  <div class=\"bk-root\" id=\"cc6abdae-cbff-44a4-b19e-f6f961ebfb16\" data-root-id=\"3139\"></div>\n",
       "</div>\n",
       "<script type=\"application/javascript\">(function(root) {\n",
       "  function embed_document(root) {\n",
       "    var docs_json = {\"4a4bdfbc-a9fa-4237-9409-802e241f6fda\":{\"defs\":[{\"extends\":null,\"module\":null,\"name\":\"ReactiveHTML1\",\"overrides\":[],\"properties\":[]},{\"extends\":null,\"module\":null,\"name\":\"FlexBox1\",\"overrides\":[],\"properties\":[{\"default\":\"flex-start\",\"kind\":null,\"name\":\"align_content\"},{\"default\":\"flex-start\",\"kind\":null,\"name\":\"align_items\"},{\"default\":\"row\",\"kind\":null,\"name\":\"flex_direction\"},{\"default\":\"wrap\",\"kind\":null,\"name\":\"flex_wrap\"},{\"default\":\"flex-start\",\"kind\":null,\"name\":\"justify_content\"}]},{\"extends\":null,\"module\":null,\"name\":\"GridStack1\",\"overrides\":[],\"properties\":[{\"default\":\"warn\",\"kind\":null,\"name\":\"mode\"},{\"default\":null,\"kind\":null,\"name\":\"ncols\"},{\"default\":null,\"kind\":null,\"name\":\"nrows\"},{\"default\":true,\"kind\":null,\"name\":\"allow_resize\"},{\"default\":true,\"kind\":null,\"name\":\"allow_drag\"},{\"default\":[],\"kind\":null,\"name\":\"state\"}]},{\"extends\":null,\"module\":null,\"name\":\"click1\",\"overrides\":[],\"properties\":[{\"default\":\"\",\"kind\":null,\"name\":\"terminal_output\"},{\"default\":\"\",\"kind\":null,\"name\":\"debug_name\"},{\"default\":0,\"kind\":null,\"name\":\"clears\"}]},{\"extends\":null,\"module\":null,\"name\":\"NotificationAreaBase1\",\"overrides\":[],\"properties\":[{\"default\":\"bottom-right\",\"kind\":null,\"name\":\"position\"},{\"default\":0,\"kind\":null,\"name\":\"_clear\"}]},{\"extends\":null,\"module\":null,\"name\":\"NotificationArea1\",\"overrides\":[],\"properties\":[{\"default\":[],\"kind\":null,\"name\":\"notifications\"},{\"default\":\"bottom-right\",\"kind\":null,\"name\":\"position\"},{\"default\":0,\"kind\":null,\"name\":\"_clear\"},{\"default\":[{\"background\":\"#ffc107\",\"icon\":{\"className\":\"fas fa-exclamation-triangle\",\"color\":\"white\",\"tagName\":\"i\"},\"type\":\"warning\"},{\"background\":\"#007bff\",\"icon\":{\"className\":\"fas fa-info-circle\",\"color\":\"white\",\"tagName\":\"i\"},\"type\":\"info\"}],\"kind\":null,\"name\":\"types\"}]},{\"extends\":null,\"module\":null,\"name\":\"Notification\",\"overrides\":[],\"properties\":[{\"default\":null,\"kind\":null,\"name\":\"background\"},{\"default\":3000,\"kind\":null,\"name\":\"duration\"},{\"default\":null,\"kind\":null,\"name\":\"icon\"},{\"default\":\"\",\"kind\":null,\"name\":\"message\"},{\"default\":null,\"kind\":null,\"name\":\"notification_type\"},{\"default\":false,\"kind\":null,\"name\":\"_destroyed\"}]},{\"extends\":null,\"module\":null,\"name\":\"TemplateActions1\",\"overrides\":[],\"properties\":[{\"default\":0,\"kind\":null,\"name\":\"open_modal\"},{\"default\":0,\"kind\":null,\"name\":\"close_modal\"}]},{\"extends\":null,\"module\":null,\"name\":\"MaterialTemplateActions1\",\"overrides\":[],\"properties\":[{\"default\":0,\"kind\":null,\"name\":\"open_modal\"},{\"default\":0,\"kind\":null,\"name\":\"close_modal\"}]}],\"roots\":{\"references\":[{\"attributes\":{\"client_comm_id\":\"88dd2163e1ee4bdea46d81e75ba9b4ac\",\"comm_id\":\"2531765fe5fd40a7af3fcc60da71f518\",\"plot_id\":\"3139\"},\"id\":\"3191\",\"type\":\"panel.models.comm_manager.CommManager\"},{\"attributes\":{},\"id\":\"3169\",\"type\":\"IntEditor\"},{\"attributes\":{\"text_align\":\"right\"},\"id\":\"3148\",\"type\":\"NumberFormatter\"},{\"attributes\":{\"editor\":{\"id\":\"3144\"},\"field\":\"index\",\"formatter\":{\"id\":\"3142\"},\"title\":\"index\",\"width\":0},\"id\":\"3145\",\"type\":\"TableColumn\"},{\"attributes\":{},\"id\":\"3174\",\"type\":\"IntEditor\"},{\"attributes\":{},\"id\":\"3149\",\"type\":\"IntEditor\"},{\"attributes\":{\"text_align\":\"right\"},\"id\":\"3158\",\"type\":\"NumberFormatter\"},{\"attributes\":{},\"id\":\"3159\",\"type\":\"IntEditor\"},{\"attributes\":{\"editor\":{\"id\":\"3149\"},\"field\":\"('Data Shape:(174813, 25)', '< (mean-3*std)')\",\"formatter\":{\"id\":\"3148\"},\"title\":\"('Data Shape:(174813, 25)', '< (mean-3*std)')\",\"width\":0},\"id\":\"3150\",\"type\":\"TableColumn\"},{\"attributes\":{\"text_align\":\"right\"},\"id\":\"3168\",\"type\":\"NumberFormatter\"},{\"attributes\":{\"editor\":{\"id\":\"3159\"},\"field\":\"('Data Shape:(174813, 25)', '< (1stQ - 1.5 * IQR)')\",\"formatter\":{\"id\":\"3158\"},\"title\":\"('Data Shape:(174813, 25)', '< (1stQ - 1.5 * IQR)')\",\"width\":0},\"id\":\"3160\",\"type\":\"TableColumn\"},{\"attributes\":{\"text_align\":\"right\"},\"id\":\"3153\",\"type\":\"NumberFormatter\"},{\"attributes\":{},\"id\":\"3164\",\"type\":\"IntEditor\"},{\"attributes\":{\"editor\":{\"id\":\"3154\"},\"field\":\"('Data Shape:(174813, 25)', '> (mean+3*std)')\",\"formatter\":{\"id\":\"3153\"},\"title\":\"('Data Shape:(174813, 25)', '> (mean+3*std)')\",\"width\":0},\"id\":\"3155\",\"type\":\"TableColumn\"},{\"attributes\":{\"text_align\":\"right\"},\"id\":\"3173\",\"type\":\"NumberFormatter\"},{\"attributes\":{},\"id\":\"3154\",\"type\":\"IntEditor\"},{\"attributes\":{\"text_align\":\"right\"},\"id\":\"3163\",\"type\":\"NumberFormatter\"},{\"attributes\":{\"columns\":[{\"id\":\"3145\"},{\"id\":\"3150\"},{\"id\":\"3155\"},{\"id\":\"3160\"},{\"id\":\"3165\"},{\"id\":\"3170\"},{\"id\":\"3175\"}],\"editable\":true,\"height\":300,\"index_position\":null,\"margin\":[5,10,5,10],\"name\":\"orders\",\"row_height\":40,\"sizing_mode\":\"fixed\",\"source\":{\"id\":\"3140\"},\"view\":{\"id\":\"3180\"},\"width\":800},\"id\":\"3178\",\"type\":\"DataTable\"},{\"attributes\":{\"editor\":{\"id\":\"3164\"},\"field\":\"('Data Shape:(174813, 25)', '> (3rdQ + 1.5 * IQR)')\",\"formatter\":{\"id\":\"3163\"},\"title\":\"('Data Shape:(174813, 25)', '> (3rdQ + 1.5 * IQR)')\",\"width\":0},\"id\":\"3165\",\"type\":\"TableColumn\"},{\"attributes\":{\"margin\":[0,0,0,0],\"tabs\":[{\"id\":\"3182\"},{\"id\":\"3184\"}]},\"id\":\"3139\",\"type\":\"panel.models.tabs.Tabs\"},{\"attributes\":{\"editor\":{\"id\":\"3169\"},\"field\":\"('Data Shape:(174813, 25)', '-inf')\",\"formatter\":{\"id\":\"3168\"},\"title\":\"('Data Shape:(174813, 25)', '-inf')\",\"width\":0},\"id\":\"3170\",\"type\":\"TableColumn\"},{\"attributes\":{\"indices\":[]},\"id\":\"3141\",\"type\":\"Selection\"},{\"attributes\":{\"child\":{\"id\":\"3178\"},\"name\":\"orders\",\"title\":\"orders\"},\"id\":\"3182\",\"type\":\"Panel\"},{\"attributes\":{},\"id\":\"3185\",\"type\":\"UnionRenderers\"},{\"attributes\":{\"source\":{\"id\":\"3140\"}},\"id\":\"3180\",\"type\":\"CDSView\"},{\"attributes\":{\"editor\":{\"id\":\"3174\"},\"field\":\"('Data Shape:(174813, 25)', '+inf')\",\"formatter\":{\"id\":\"3173\"},\"title\":\"('Data Shape:(174813, 25)', '+inf')\",\"width\":0},\"id\":\"3175\",\"type\":\"TableColumn\"},{\"attributes\":{},\"id\":\"3142\",\"type\":\"StringFormatter\"},{\"attributes\":{\"css_classes\":[\"markdown\"],\"margin\":[5,5,5,5],\"name\":\"product\",\"text\":\"&lt;p&gt;No Outlier Values&lt;/p&gt;\"},\"id\":\"3183\",\"type\":\"panel.models.markup.HTML\"},{\"attributes\":{},\"id\":\"3144\",\"type\":\"CellEditor\"},{\"attributes\":{\"child\":{\"id\":\"3183\"},\"name\":\"product\",\"title\":\"product\"},\"id\":\"3184\",\"type\":\"Panel\"},{\"attributes\":{\"data\":{\"('Data Shape:(174813, 25)', '+inf')\":[0,0,0,0,0,0,0,0,0],\"('Data Shape:(174813, 25)', '-inf')\":[0,0,0,0,0,0,0,0,0],\"('Data Shape:(174813, 25)', '< (1stQ - 1.5 * IQR)')\":[174,10552,0,226,0,0,546,397,8791],\"('Data Shape:(174813, 25)', '< (mean-3*std)')\":[340,8988,0,1,0,0,1,1,270],\"('Data Shape:(174813, 25)', '> (3rdQ + 1.5 * IQR)')\":[0,11010,16279,19070,10675,13028,21995,22465,20290],\"('Data Shape:(174813, 25)', '> (mean+3*std)')\":[0,0,5150,1067,3283,3572,646,582,231],\"index\":[\"Orderno\",\"BusinessUnit\",\"Line\",\"Quantity\",\"UnitCost\",\"UnitPrice\",\"SellingPrice\",\"SellingCost\",\"GP\"]},\"selected\":{\"id\":\"3141\"},\"selection_policy\":{\"id\":\"3185\"}},\"id\":\"3140\",\"type\":\"ColumnDataSource\"}],\"root_ids\":[\"3139\",\"3191\"]},\"title\":\"Bokeh Application\",\"version\":\"2.4.3\"}};\n",
       "    var render_items = [{\"docid\":\"4a4bdfbc-a9fa-4237-9409-802e241f6fda\",\"root_ids\":[\"3139\"],\"roots\":{\"3139\":\"cc6abdae-cbff-44a4-b19e-f6f961ebfb16\"}}];\n",
       "    root.Bokeh.embed.embed_items_notebook(docs_json, render_items);\n",
       "  }\n",
       "  if (root.Bokeh !== undefined && root.Bokeh.Panel !== undefined) {\n",
       "    embed_document(root);\n",
       "  } else {\n",
       "    var attempts = 0;\n",
       "    var timer = setInterval(function(root) {\n",
       "      if (root.Bokeh !== undefined && root.Bokeh.Panel !== undefined) {\n",
       "        clearInterval(timer);\n",
       "        embed_document(root);\n",
       "      } else if (document.readyState == \"complete\") {\n",
       "        attempts++;\n",
       "        if (attempts > 200) {\n",
       "          clearInterval(timer);\n",
       "          console.log(\"Bokeh: ERROR: Unable to run BokehJS code because BokehJS library is missing\");\n",
       "        }\n",
       "      }\n",
       "    }, 25, root)\n",
       "  }\n",
       "})(window);</script>"
      ],
      "text/plain": [
       "Tabs\n",
       "    [0] DataFrame(height=300, name='orders', sizing_mode='fixed', value=              ('Data Shape..., width=800)\n",
       "    [1] Markdown(str, name='product')"
      ]
     },
     "execution_count": 25,
     "metadata": {
      "application/vnd.holoviews_exec.v0+json": {
       "id": "3139"
      }
     },
     "output_type": "execute_result"
    }
   ],
   "source": [
    "sum1 = eda.get_outliers(orders_df)\n",
    "sum2 = eda.get_outliers(prod_df)\n",
    "\n",
    "display_as_tabs([('orders', sum1), ('product', sum2)])"
   ]
  },
  {
   "cell_type": "markdown",
   "metadata": {},
   "source": [
    "## Health Analysis report\n",
    "\n",
    "Generate a report that has all the above data in a single html. This could be useful to submit to a client"
   ]
  },
  {
   "cell_type": "code",
   "execution_count": 53,
   "metadata": {},
   "outputs": [],
   "source": [
    "from ta_lib.reports.api import summary_report\n",
    "\n",
    "summary_report(housing_df, './housing.html')\n"
   ]
  },
  {
   "cell_type": "markdown",
   "metadata": {},
   "source": [
    "prod: https://drive.google.com/file/d/1TM-T5HzAYpT8_1ugM5L6Bnfxp8r3uMem/view?usp=sharing\n",
    "\n",
    "orders: https://drive.google.com/file/d/1uvehi90v1HFtScZrtWg3pW2zpi-DFQ1Y/view?usp=sharing\n",
    "    "
   ]
  },
  {
   "cell_type": "code",
   "execution_count": null,
   "metadata": {},
   "outputs": [],
   "source": []
  }
 ],
 "metadata": {
  "kernelspec": {
   "display_name": "Python 3 (ipykernel)",
   "language": "python",
   "name": "python3"
  },
  "language_info": {
   "codemirror_mode": {
    "name": "ipython",
    "version": 3
   },
   "file_extension": ".py",
   "mimetype": "text/x-python",
   "name": "python",
   "nbconvert_exporter": "python",
   "pygments_lexer": "ipython3",
   "version": "3.9.18"
  }
 },
 "nbformat": 4,
 "nbformat_minor": 4
}
